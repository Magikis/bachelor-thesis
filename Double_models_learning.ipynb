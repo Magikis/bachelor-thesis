{
 "cells": [
  {
   "cell_type": "code",
   "execution_count": 1,
   "metadata": {},
   "outputs": [],
   "source": [
    "%load_ext autoreload\n",
    "%autoreload 2\n",
    "import sklearn\n",
    "from sklearn.preprocessing import StandardScaler\n",
    "import sklearn.svm as svm\n",
    "from sklearn.neural_network import (MLPClassifier, MLPRegressor)\n",
    "import numpy as np\n",
    "from agents.knn import *\n",
    "from settings import settings"
   ]
  },
  {
   "cell_type": "markdown",
   "metadata": {},
   "source": [
    "# Congfig cell"
   ]
  },
  {
   "cell_type": "code",
   "execution_count": 2,
   "metadata": {},
   "outputs": [],
   "source": [
    "from agents.double_model_agent import extract_state\n",
    "\n",
    "datasets_paths = [\n",
    "#     '/home/kku/Documents/engineering-thesis/important_logs',\n",
    "    '/home/kku/Dropbox/datasets/cg_track_2_2',\n",
    "#     '/home/kku/Dropbox/CG_track_3'\n",
    "]\n",
    "\n",
    "\n",
    "speed_actions_labels = [\n",
    "    {'accel':0, 'brake': 0},\n",
    "    {'accel':1, 'brake': 0},\n",
    "    {'accel':0, 'brake': 1}\n",
    "]\n",
    "state_keys = [\n",
    "    'speedX',\n",
    "    'speedY',\n",
    "    'speedZ',\n",
    "    'angle',\n",
    "    'trackPos',\n",
    "#     'distFromStart',\n",
    "    'track',\n",
    "    'wheelSpinVel'\n",
    "]\n",
    "\n",
    "test_size = 0.2\n",
    "\n",
    "regressor = MLPRegressor((300, 30), activation='tanh', max_iter=800, n_iter_no_change=30)\n",
    "classifier = MLPClassifier((200,20), activation='tanh', max_iter=800)\n",
    "# regressor = svm.SVR()\n",
    "# classifier = svm.SVC(gamma='scale', class_weight='balanced', cache_size=1500)"
   ]
  },
  {
   "cell_type": "code",
   "execution_count": 3,
   "metadata": {},
   "outputs": [],
   "source": [
    "data = [\n",
    "    x\n",
    "    for path in datasets_paths\n",
    "    for x in parse_dataset(path) \n",
    "    if not (x['speedX'] == 0 and x['accel'] == 0)\n",
    "]\n",
    "states = np.array(extract_state(data, state_keys, data_is_array=True))\n",
    "steer_actions = np.array([x['steer'] for x in data])\n",
    "speed_actons = np.array([\n",
    "    speed_actions_labels.index({\n",
    "        'accel': x['accel'],\n",
    "        'brake': x['brake']\n",
    "    }) \n",
    "    for x in data\n",
    "])"
   ]
  },
  {
   "cell_type": "code",
   "execution_count": 4,
   "metadata": {},
   "outputs": [],
   "source": [
    "X, Y = sklearn.utils.shuffle(states, steer_actions)\n",
    "X_train, X_test, Y_train, Y_test = sklearn.model_selection.train_test_split(X, Y, test_size=test_size)"
   ]
  },
  {
   "cell_type": "code",
   "execution_count": 5,
   "metadata": {
    "scrolled": true
   },
   "outputs": [
    {
     "name": "stdout",
     "output_type": "stream",
     "text": [
      "(62489, 28)\n"
     ]
    },
    {
     "data": {
      "text/plain": [
       "MLPRegressor(activation='tanh', alpha=0.0001, batch_size='auto', beta_1=0.9,\n",
       "       beta_2=0.999, early_stopping=False, epsilon=1e-08,\n",
       "       hidden_layer_sizes=(300, 30), learning_rate='constant',\n",
       "       learning_rate_init=0.001, max_iter=800, momentum=0.9,\n",
       "       n_iter_no_change=30, nesterovs_momentum=True, power_t=0.5,\n",
       "       random_state=None, shuffle=True, solver='adam', tol=0.0001,\n",
       "       validation_fraction=0.1, verbose=False, warm_start=False)"
      ]
     },
     "execution_count": 5,
     "metadata": {},
     "output_type": "execute_result"
    }
   ],
   "source": [
    "scaler = StandardScaler()  \n",
    "scaler.fit(X_train)  \n",
    "print(scaler.transform(X_train).shape)\n",
    "regressor.fit(\n",
    "    scaler.transform(X_train),\n",
    "    Y_train\n",
    ") "
   ]
  },
  {
   "cell_type": "code",
   "execution_count": 6,
   "metadata": {},
   "outputs": [
    {
     "data": {
      "text/plain": [
       "0.8194033137694142"
      ]
     },
     "execution_count": 6,
     "metadata": {},
     "output_type": "execute_result"
    }
   ],
   "source": [
    "regressor.score(\n",
    "    scaler.transform(X_test),\n",
    "    Y_test\n",
    ")"
   ]
  },
  {
   "cell_type": "code",
   "execution_count": 7,
   "metadata": {},
   "outputs": [
    {
     "data": {
      "text/plain": [
       "MLPClassifier(activation='tanh', alpha=0.0001, batch_size='auto', beta_1=0.9,\n",
       "       beta_2=0.999, early_stopping=False, epsilon=1e-08,\n",
       "       hidden_layer_sizes=(200, 20), learning_rate='constant',\n",
       "       learning_rate_init=0.001, max_iter=800, momentum=0.9,\n",
       "       n_iter_no_change=10, nesterovs_momentum=True, power_t=0.5,\n",
       "       random_state=None, shuffle=True, solver='adam', tol=0.0001,\n",
       "       validation_fraction=0.1, verbose=False, warm_start=False)"
      ]
     },
     "execution_count": 7,
     "metadata": {},
     "output_type": "execute_result"
    }
   ],
   "source": [
    "X, Y = sklearn.utils.shuffle(\n",
    "    np.hstack((\n",
    "        scaler.transform(states),\n",
    "        steer_actions[:, np.newaxis]\n",
    "    )),\n",
    "    speed_actons\n",
    ")\n",
    "X_train, X_test, Y_train, Y_test = sklearn.model_selection.train_test_split(X, Y, test_size=test_size)\n",
    "classifier.fit(\n",
    "    X_train,\n",
    "    Y_train\n",
    ")"
   ]
  },
  {
   "cell_type": "code",
   "execution_count": 8,
   "metadata": {},
   "outputs": [
    {
     "name": "stdout",
     "output_type": "stream",
     "text": [
      "0.979453370031364\n"
     ]
    },
    {
     "data": {
      "text/plain": [
       "array([[ 3313,   183,    17],\n",
       "       [   95, 11687,     4],\n",
       "       [   22,     0,   302]])"
      ]
     },
     "execution_count": 8,
     "metadata": {},
     "output_type": "execute_result"
    }
   ],
   "source": [
    "print(classifier.score(\n",
    "    X_test,\n",
    "    Y_test\n",
    "))\n",
    "sklearn.metrics.confusion_matrix(Y_test, classifier.predict(X_test))"
   ]
  },
  {
   "cell_type": "code",
   "execution_count": 9,
   "metadata": {},
   "outputs": [
    {
     "name": "stdout",
     "output_type": "stream",
     "text": [
      "Dumping model to: models/2018-12-30_16:39:54_510\n"
     ]
    }
   ],
   "source": [
    "from utils import generate_id\n",
    "import os\n",
    "def dump(path='saved_model'):\n",
    "    print(f'Dumping model to: {path}')\n",
    "    os.system(f'mkdir {path}')\n",
    "    np.savez(\n",
    "        f'{path}/parameters.npz',\n",
    "        **{\n",
    "            'state_keys': state_keys,\n",
    "            'speed_actions_labels': speed_actions_labels,\n",
    "        }\n",
    "    )\n",
    "    joblib.dump(scaler, f'{path}/scaler')\n",
    "    joblib.dump(regressor, f'{path}/steer_regressor')\n",
    "    joblib.dump(classifier, f'{path}/speed_classifier')\n",
    "dump(f'models/{generate_id()}')"
   ]
  },
  {
   "cell_type": "code",
   "execution_count": null,
   "metadata": {},
   "outputs": [],
   "source": []
  },
  {
   "cell_type": "code",
   "execution_count": 10,
   "metadata": {},
   "outputs": [],
   "source": [
    "dists_from_start = np.array([x['distFromStart'] for x in parse_dataset(datasets_paths[0])])"
   ]
  },
  {
   "cell_type": "code",
   "execution_count": 11,
   "metadata": {},
   "outputs": [
    {
     "data": {
      "text/plain": [
       "array([3185.53, 3185.55, 3185.56, 3185.56, 3185.57, 3185.62, 3185.62,\n",
       "       3185.62, 3185.62, 3185.62, 3185.62, 3185.62, 3185.62, 3185.62,\n",
       "       3185.62, 3185.62, 3185.62, 3185.62, 3185.62, 3185.62, 3185.62,\n",
       "       3185.62, 3185.62, 3185.62, 3185.62, 3185.62, 3185.65, 3185.65,\n",
       "       3185.74, 3185.79])"
      ]
     },
     "execution_count": 11,
     "metadata": {},
     "output_type": "execute_result"
    }
   ],
   "source": [
    "ids = np.argsort(dists_from_start)\n",
    "dists_from_start[ids[-30:]]"
   ]
  }
 ],
 "metadata": {
  "kernelspec": {
   "display_name": "Python 3",
   "language": "python",
   "name": "python3"
  },
  "language_info": {
   "codemirror_mode": {
    "name": "ipython",
    "version": 3
   },
   "file_extension": ".py",
   "mimetype": "text/x-python",
   "name": "python",
   "nbconvert_exporter": "python",
   "pygments_lexer": "ipython3",
   "version": "3.6.7"
  }
 },
 "nbformat": 4,
 "nbformat_minor": 2
}
