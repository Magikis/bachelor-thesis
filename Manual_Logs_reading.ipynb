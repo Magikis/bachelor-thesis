{
 "cells": [
  {
   "cell_type": "code",
   "execution_count": 99,
   "metadata": {},
   "outputs": [
    {
     "name": "stdout",
     "output_type": "stream",
     "text": [
      "logs/2018-11-26_13:44:10_227.agent.log\n"
     ]
    }
   ],
   "source": [
    "logfileovveride = 'logs/2018-11-26_13:43:52_302.agent.log'\n",
    "# logfileovveride = None\n",
    "\n",
    "import glob\n",
    "import csv\n",
    "import numpy as np\n",
    "import json\n",
    "logs = glob.glob(\"logs/*.agent.log\")\n",
    "logs.sort()\n",
    "newest_log_filename = logs[-1]\n",
    "print(newest_log_filename)\n",
    "with open(newest_log_filename if not logfileovveride else logfileovveride) as f:\n",
    "    data = json.loads(f.read())"
   ]
  },
  {
   "cell_type": "code",
   "execution_count": 101,
   "metadata": {},
   "outputs": [],
   "source": [
    "d = np.array(([\n",
    "    (\n",
    "#         x['speedX'],\n",
    "        x['trackPos'],\n",
    "#         x['']\n",
    "    ) for x in data ]), dtype='float')"
   ]
  },
  {
   "cell_type": "code",
   "execution_count": 103,
   "metadata": {},
   "outputs": [
    {
     "data": {
      "text/plain": [
       "(0.51112, -0.299654, array([-6.40869e-05]), array([-0.256424]))"
      ]
     },
     "execution_count": 103,
     "metadata": {},
     "output_type": "execute_result"
    }
   ],
   "source": [
    "d[:].max(), d[:].min(), d[0],d[1000]"
   ]
  },
  {
   "cell_type": "code",
   "execution_count": 104,
   "metadata": {},
   "outputs": [
    {
     "data": {
      "text/plain": [
       "[{'angle': -0.015863367882228075,\n",
       "  'curLapTime': 129.966,\n",
       "  'distFromStart': 1621.07,\n",
       "  'rpm': 4516.44,\n",
       "  'speedX': 39.9147,\n",
       "  'trackPos': -0.194667,\n",
       "  'x': 213.341,\n",
       "  'y': 12.0533},\n",
       " {'angle': -0.016027291107415003,\n",
       "  'curLapTime': 129.986,\n",
       "  'distFromStart': 1621.3,\n",
       "  'rpm': 5627.35,\n",
       "  'speedX': 40.439,\n",
       "  'trackPos': -0.194661,\n",
       "  'x': 213.564,\n",
       "  'y': 12.0534},\n",
       " {'angle': -0.015426201084543258,\n",
       "  'curLapTime': 130.006,\n",
       "  'distFromStart': 1621.52,\n",
       "  'rpm': 4564.54,\n",
       "  'speedX': 40.6214,\n",
       "  'trackPos': -0.194654,\n",
       "  'x': 213.79,\n",
       "  'y': 12.0535},\n",
       " {'angle': -0.014942624705452845,\n",
       "  'curLapTime': -9.7667e-07,\n",
       "  'distFromStart': 0.0149536,\n",
       "  'rpm': 4596.69,\n",
       "  'speedX': 40.4981,\n",
       "  'trackPos': -0.194682,\n",
       "  'x': 214.015,\n",
       "  'y': 12.0535},\n",
       " {'angle': -0.014902861434470763,\n",
       "  'curLapTime': 0.019999,\n",
       "  'distFromStart': 0.240067,\n",
       "  'rpm': 4659.7,\n",
       "  'speedX': 40.5587,\n",
       "  'trackPos': -0.194676,\n",
       "  'x': 214.24,\n",
       "  'y': 12.0536},\n",
       " {'angle': -0.014826486160379824,\n",
       "  'curLapTime': 0.039999,\n",
       "  'distFromStart': 0.465607,\n",
       "  'rpm': 4678.04,\n",
       "  'speedX': 40.6324,\n",
       "  'trackPos': -0.19467,\n",
       "  'x': 214.466,\n",
       "  'y': 12.0536}]"
      ]
     },
     "execution_count": 104,
     "metadata": {},
     "output_type": "execute_result"
    }
   ],
   "source": [
    "data[-6:]"
   ]
  },
  {
   "cell_type": "code",
   "execution_count": 93,
   "metadata": {},
   "outputs": [
    {
     "name": "stdout",
     "output_type": "stream",
     "text": [
      "Populating the interactive namespace from numpy and matplotlib\n"
     ]
    },
    {
     "data": {
      "text/plain": [
       "[<matplotlib.lines.Line2D at 0x7f32fc9387f0>]"
      ]
     },
     "execution_count": 93,
     "metadata": {},
     "output_type": "execute_result"
    },
    {
     "data": {
      "image/png": "[encoded data removed]",
      "text/plain": [
       "<Figure size 432x288 with 1 Axes>"
      ]
     },
     "metadata": {
      "needs_background": "light"
     },
     "output_type": "display_data"
    }
   ],
   "source": [
    "%pylab inline\n",
    "d = np.array(([\n",
    "    (\n",
    "        x['x'],\n",
    "        x['y'],\n",
    "    ) for x in data ]), dtype='float')\n",
    "plt.plot(d[:,0], d[:,1])"
   ]
  },
  {
   "cell_type": "code",
   "execution_count": 17,
   "metadata": {},
   "outputs": [
    {
     "data": {
      "text/plain": [
       "(6574, 2749.6, 0.543646)"
      ]
     },
     "execution_count": 17,
     "metadata": {},
     "output_type": "execute_result"
    }
   ],
   "source": [
    "hardest_i = np.abs(d[:,1]).argmax()\n",
    "hardest_i, *tuple(d[hardest_i])"
   ]
  },
  {
   "cell_type": "code",
   "execution_count": 18,
   "metadata": {},
   "outputs": [
    {
     "data": {
      "text/plain": [
       "'[3.7464, 9.07057, 15.9321, 35.4147, 135.148, 200.0, 200.0, 200.0, 199.762, 165.764, 141.664, 123.691, 105.045, 89.6223, 70.3063, 49.2048, 32.9407, 22.7269, 11.436]'"
      ]
     },
     "execution_count": 18,
     "metadata": {},
     "output_type": "execute_result"
    }
   ],
   "source": [
    "data[hardest_i]['track']"
   ]
  },
  {
   "cell_type": "code",
   "execution_count": 9,
   "metadata": {},
   "outputs": [
    {
     "data": {
      "text/plain": [
       "'3.28922'"
      ]
     },
     "execution_count": 9,
     "metadata": {},
     "output_type": "execute_result"
    }
   ],
   "source": [
    "data[hardest_i]['speedY']"
   ]
  },
  {
   "cell_type": "code",
   "execution_count": 10,
   "metadata": {},
   "outputs": [
    {
     "data": {
      "text/plain": [
       "59"
      ]
     },
     "execution_count": 10,
     "metadata": {},
     "output_type": "execute_result"
    }
   ],
   "source": [
    "np.sum(d[:, 0] == d[0,0])"
   ]
  },
  {
   "cell_type": "code",
   "execution_count": 58,
   "metadata": {},
   "outputs": [
    {
     "data": {
      "text/plain": [
       "[[190,\n",
       "  [[40, 150.97],\n",
       "   [190, 130.03],\n",
       "   [340, 130.03],\n",
       "   [265.0, 130.03],\n",
       "   [227.5, 130.03],\n",
       "   [208.75, 130.03],\n",
       "   [199.375, 130.03],\n",
       "   [194.6875, 130.03],\n",
       "   [192.34375, 130.03],\n",
       "   [191.171875, 130.03]]],\n",
       " [154.84375,\n",
       "  [[40, 130.03],\n",
       "   [190, inf],\n",
       "   [115.0, 106.97],\n",
       "   [190.0, inf],\n",
       "   [152.5, 103.24],\n",
       "   [190.0, inf],\n",
       "   [171.25, inf],\n",
       "   [161.875, inf],\n",
       "   [157.1875, inf],\n",
       "   [154.84375, 103.11],\n",
       "   [157.1875, inf],\n",
       "   [156.015625, inf]]],\n",
       " [164.21875,\n",
       "  [[40, 103.11],\n",
       "   [190, inf],\n",
       "   [115.0, 80.24],\n",
       "   [190.0, inf],\n",
       "   [152.5, 76.48],\n",
       "   [190.0, inf],\n",
       "   [171.25, inf],\n",
       "   [161.875, 76.03],\n",
       "   [171.25, inf],\n",
       "   [166.5625, inf],\n",
       "   [164.21875, 75.88],\n",
       "   [166.5625, inf],\n",
       "   [165.390625, inf]]],\n",
       " [52.890625,\n",
       "  [[40, 75.88],\n",
       "   [190, inf],\n",
       "   [115.0, inf],\n",
       "   [77.5, inf],\n",
       "   [58.75, inf],\n",
       "   [49.375, 67.74],\n",
       "   [58.75, inf],\n",
       "   [54.0625, inf],\n",
       "   [51.71875, 66.22],\n",
       "   [54.0625, inf],\n",
       "   [52.890625, 65.47],\n",
       "   [54.0625, inf]]]]"
      ]
     },
     "execution_count": 58,
     "metadata": {},
     "output_type": "execute_result"
    }
   ],
   "source": [
    "with open('logs/speed_limits.log') as f:\n",
    "#     data = [json.loads(x) for x in f]\n",
    "    data = json.loads(f.read())\n",
    "data"
   ]
  },
  {
   "cell_type": "code",
   "execution_count": 18,
   "metadata": {},
   "outputs": [
    {
     "data": {
      "text/plain": [
       "[(1, 2), (3, 4), (5, 6), (7, 8)]"
      ]
     },
     "execution_count": 18,
     "metadata": {},
     "output_type": "execute_result"
    }
   ],
   "source": [
    "x = [1,2,3,4,5,6,7,8]\n",
    "list(zip(x[::2], x[1::2]))"
   ]
  }
 ],
 "metadata": {
  "kernelspec": {
   "display_name": "Python 3",
   "language": "python",
   "name": "python3"
  },
  "language_info": {
   "codemirror_mode": {
    "name": "ipython",
    "version": 3
   },
   "file_extension": ".py",
   "mimetype": "text/x-python",
   "name": "python",
   "nbconvert_exporter": "python",
   "pygments_lexer": "ipython3",
   "version": "3.7.0"
  }
 },
 "nbformat": 4,
 "nbformat_minor": 2
}
