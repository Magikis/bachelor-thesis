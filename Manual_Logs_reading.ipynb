{
 "cells": [
  {
   "cell_type": "code",
   "execution_count": 2,
   "metadata": {},
   "outputs": [
    {
     "name": "stdout",
     "output_type": "stream",
     "text": [
      "important_logs/2018-12-08_12:35:17_590.agent.log\n"
     ]
    }
   ],
   "source": [
    "# logfileovveride = 'logs/2018-11-26_13:43:52_302.agent.log'\n",
    "logfileovveride = None\n",
    "\n",
    "import glob\n",
    "import csv\n",
    "import numpy as np\n",
    "import json\n",
    "logs = glob.glob(\"important_logs/*.agent.log\")\n",
    "logs.sort()\n",
    "newest_log_filename = logs[-1]\n",
    "print(newest_log_filename)\n",
    "with open(newest_log_filename if not logfileovveride else logfileovveride) as f:\n",
    "    data = json.loads(f.read())"
   ]
  },
  {
   "cell_type": "code",
   "execution_count": 101,
   "metadata": {},
   "outputs": [],
   "source": [
    "d = np.array(([\n",
    "    (\n",
    "#         x['speedX'],\n",
    "        x['trackPos'],\n",
    "#         x['']\n",
    "    ) for x in data ]), dtype='float')"
   ]
  },
  {
   "cell_type": "code",
   "execution_count": 7,
   "metadata": {},
   "outputs": [
    {
     "name": "stdout",
     "output_type": "stream",
     "text": [
      "angle\n",
      "curLapTime\n",
      "damage\n",
      "distFromStart\n",
      "distRaced\n",
      "focus\n",
      "fuel\n",
      "gear\n",
      "lastLapTime\n",
      "opponents\n",
      "pitch\n",
      "racePos\n",
      "roll\n",
      "rpm\n",
      "speedGlobalX\n",
      "speedGlobalY\n",
      "speedX\n",
      "speedY\n",
      "speedZ\n",
      "track\n",
      "trackPos\n",
      "wheelSpinVel\n",
      "x\n",
      "y\n",
      "yaw\n",
      "z\n",
      "accel\n",
      "brake\n",
      "clutch\n",
      "meta\n",
      "steer\n"
     ]
    }
   ],
   "source": [
    "for x in data[0].keys(): print(x)"
   ]
  },
  {
   "cell_type": "code",
   "execution_count": 51,
   "metadata": {},
   "outputs": [],
   "source": [
    "def extract_parameters(data):\n",
    "    action_keys = [\n",
    "        'accel',\n",
    "        'brake',\n",
    "        'steer',\n",
    "    ]\n",
    "    \n",
    "    state_keys = [\n",
    "        'angle',\n",
    "        'distFromStart',\n",
    "        'track',\n",
    "        'speedX',\n",
    "        'speedY',\n",
    "        'trackPos'\n",
    "    ]\n",
    "    processed = [\n",
    "        (\n",
    "            {k: x[k] for k in action_keys},\n",
    "            {k: x[k] for k in state_keys}\n",
    "        )\n",
    "     for x in data\n",
    "    ]\n",
    "    actions, states = zip(*processed)\n",
    "    for s  in states:\n",
    "        s['track'] = tuple(s['track'])\n",
    "    return map(state_to_vector, states), map(state_to_vector, actions)\n",
    "\n",
    "def state_to_vector(s):\n",
    "    res = []\n",
    "    for k,v in s.items():\n",
    "        if type(v) == type([]):\n",
    "            res += v\n",
    "        res.append(v)\n",
    "    return res\n",
    "        "
   ]
  },
  {
   "cell_type": "code",
   "execution_count": 52,
   "metadata": {},
   "outputs": [
    {
     "data": {
      "text/plain": [
       "{(0, 0, 0),\n",
       " (0, 0, 0.3),\n",
       " (0, 0, 0.315),\n",
       " (0, 0, 0.32999999999999996),\n",
       " (0, 0, 0.345),\n",
       " (0, 0, 0.36),\n",
       " (0, 0, 0.375),\n",
       " (0, 0, 0.39),\n",
       " (0, 0, 0.40499999999999997),\n",
       " (0, 0, 0.42),\n",
       " (0, 0, 0.435),\n",
       " (0, 0, 0.44999999999999996),\n",
       " (0, 0, 0.46499999999999997),\n",
       " (0, 0, 0.48),\n",
       " (0, 0, 0.495),\n",
       " (0, 0, 0.51),\n",
       " (0, 0, 0.525),\n",
       " (0, 0, 0.54),\n",
       " (0, 0, 0.5549999999999999),\n",
       " (0, 0, 0.57),\n",
       " (0, 0, 0.585),\n",
       " (0, 0, 0.6),\n",
       " (0, 0, 0.615),\n",
       " (0, 0, 0.63),\n",
       " (0, 0, 0.645),\n",
       " (0, 0, 0.6599999999999999),\n",
       " (0, 0, 0.6749999999999999),\n",
       " (0, 0, 0.69),\n",
       " (0, 0, 0.705),\n",
       " (0, 0, 0.72),\n",
       " (0, 0, 0.735),\n",
       " (0, 0, 0.75),\n",
       " (0, 0, 0.765),\n",
       " (0, 0, 0.78),\n",
       " (0, 0, 0.7949999999999999),\n",
       " (0, 0, 0.8099999999999999),\n",
       " (0, 0, 0.825),\n",
       " (0, 0, 0.84),\n",
       " (0, 0, 1.0),\n",
       " (0, 1, -0.21),\n",
       " (0, 1, -0.195),\n",
       " (0, 1, -0.18),\n",
       " (0, 1, -0.16499999999999998),\n",
       " (0, 1, -0.15),\n",
       " (0, 1, -0.135),\n",
       " (0, 1, -0.12),\n",
       " (0, 1, -0.105),\n",
       " (0, 1, -0.09),\n",
       " (0, 1, -0.075),\n",
       " (0, 1, -0.06),\n",
       " (0, 1, -0.045),\n",
       " (0, 1, -0.03),\n",
       " (0, 1, 0),\n",
       " (0, 1, 0.015),\n",
       " (0, 1, 0.03),\n",
       " (0, 1, 0.045),\n",
       " (0, 1, 0.06),\n",
       " (0, 1, 0.075),\n",
       " (0, 1, 0.09),\n",
       " (0, 1, 0.105),\n",
       " (0, 1, 0.12),\n",
       " (0, 1, 0.135),\n",
       " (0, 1, 0.15),\n",
       " (0, 1, 0.16499999999999998),\n",
       " (0, 1, 0.18),\n",
       " (0, 1, 0.195),\n",
       " (0, 1, 0.21),\n",
       " (0, 1, 0.22499999999999998),\n",
       " (0, 1, 0.24),\n",
       " (0, 1, 0.255),\n",
       " (0, 1, 0.27),\n",
       " (0, 1, 0.285),\n",
       " (1, 0, -0.78),\n",
       " (1, 0, -0.765),\n",
       " (1, 0, -0.75),\n",
       " (1, 0, -0.735),\n",
       " (1, 0, -0.72),\n",
       " (1, 0, -0.705),\n",
       " (1, 0, -0.69),\n",
       " (1, 0, -0.6749999999999999),\n",
       " (1, 0, -0.6599999999999999),\n",
       " (1, 0, -0.645),\n",
       " (1, 0, -0.63),\n",
       " (1, 0, -0.615),\n",
       " (1, 0, -0.6),\n",
       " (1, 0, -0.585),\n",
       " (1, 0, -0.57),\n",
       " (1, 0, -0.5549999999999999),\n",
       " (1, 0, -0.54),\n",
       " (1, 0, -0.525),\n",
       " (1, 0, -0.51),\n",
       " (1, 0, -0.495),\n",
       " (1, 0, -0.48),\n",
       " (1, 0, -0.46499999999999997),\n",
       " (1, 0, -0.44999999999999996),\n",
       " (1, 0, -0.435),\n",
       " (1, 0, -0.42),\n",
       " (1, 0, -0.40499999999999997),\n",
       " (1, 0, -0.39),\n",
       " (1, 0, -0.375),\n",
       " (1, 0, -0.36),\n",
       " (1, 0, -0.345),\n",
       " (1, 0, -0.32999999999999996),\n",
       " (1, 0, -0.315),\n",
       " (1, 0, -0.3),\n",
       " (1, 0, -0.285),\n",
       " (1, 0, -0.27),\n",
       " (1, 0, -0.255),\n",
       " (1, 0, -0.24),\n",
       " (1, 0, -0.22499999999999998),\n",
       " (1, 0, -0.21),\n",
       " (1, 0, -0.195),\n",
       " (1, 0, -0.18),\n",
       " (1, 0, -0.16499999999999998),\n",
       " (1, 0, -0.15),\n",
       " (1, 0, -0.135),\n",
       " (1, 0, -0.12),\n",
       " (1, 0, -0.105),\n",
       " (1, 0, -0.09),\n",
       " (1, 0, -0.075),\n",
       " (1, 0, -0.06),\n",
       " (1, 0, -0.045),\n",
       " (1, 0, -0.03),\n",
       " (1, 0, -0.015),\n",
       " (1, 0, 0),\n",
       " (1, 0, 0.015),\n",
       " (1, 0, 0.03),\n",
       " (1, 0, 0.045),\n",
       " (1, 0, 0.06),\n",
       " (1, 0, 0.075),\n",
       " (1, 0, 0.09),\n",
       " (1, 0, 0.105),\n",
       " (1, 0, 0.12),\n",
       " (1, 0, 0.135),\n",
       " (1, 0, 0.15),\n",
       " (1, 0, 0.16499999999999998),\n",
       " (1, 0, 0.18),\n",
       " (1, 0, 0.195),\n",
       " (1, 0, 0.21),\n",
       " (1, 0, 0.22499999999999998),\n",
       " (1, 0, 0.24),\n",
       " (1, 0, 0.255),\n",
       " (1, 0, 0.27),\n",
       " (1, 0, 0.285),\n",
       " (1, 0, 0.3),\n",
       " (1, 0, 0.315),\n",
       " (1, 0, 0.32999999999999996),\n",
       " (1, 0, 0.345),\n",
       " (1, 0, 0.36),\n",
       " (1, 0, 0.375),\n",
       " (1, 0, 0.39),\n",
       " (1, 0, 0.40499999999999997),\n",
       " (1, 0, 0.42),\n",
       " (1, 0, 0.435),\n",
       " (1, 0, 0.44999999999999996),\n",
       " (1, 0, 0.46499999999999997),\n",
       " (1, 0, 0.48),\n",
       " (1, 0, 0.495),\n",
       " (1, 0, 0.51),\n",
       " (1, 0, 0.525),\n",
       " (1, 0, 0.54),\n",
       " (1, 0, 0.5549999999999999),\n",
       " (1, 0, 0.57),\n",
       " (1, 0, 0.585),\n",
       " (1, 0, 0.6),\n",
       " (1, 0, 0.615),\n",
       " (1, 0, 0.63),\n",
       " (1, 0, 0.645),\n",
       " (1, 0, 0.6599999999999999),\n",
       " (1, 0, 0.6749999999999999),\n",
       " (1, 0, 0.69),\n",
       " (1, 0, 0.705),\n",
       " (1, 0, 0.72),\n",
       " (1, 0, 0.735),\n",
       " (1, 0, 0.75),\n",
       " (1, 0, 0.765),\n",
       " (1, 0, 0.78),\n",
       " (1, 0, 0.7949999999999999),\n",
       " (1, 0, 0.8099999999999999),\n",
       " (1, 0, 0.825),\n",
       " (1, 0, 0.84),\n",
       " (1, 0, 0.855),\n",
       " (1, 0, 0.87),\n",
       " (1, 0, 0.885),\n",
       " (1, 0, 0.8999999999999999),\n",
       " (1, 0, 0.9149999999999999),\n",
       " (1, 0, 0.9299999999999999),\n",
       " (1, 0, 0.945),\n",
       " (1, 0, 0.96),\n",
       " (1, 0, 0.975),\n",
       " (1, 0, 0.99),\n",
       " (1, 0, 1.0)}"
      ]
     },
     "execution_count": 52,
     "metadata": {},
     "output_type": "execute_result"
    }
   ],
   "source": [
    "states, actions = extract_parameters(data)\n",
    "(\n",
    "#     len\n",
    "    (set([tuple(a) for a in actions]))\n",
    ")"
   ]
  },
  {
   "cell_type": "code",
   "execution_count": 53,
   "metadata": {},
   "outputs": [
    {
     "data": {
      "text/plain": [
       "[[1.0017937864744392e-05,\n",
       "  3085.83,\n",
       "  (10.6066,\n",
       "   23.0366,\n",
       "   36.0729,\n",
       "   61.5414,\n",
       "   107.517,\n",
       "   171.941,\n",
       "   200.0,\n",
       "   200.0,\n",
       "   200.0,\n",
       "   200.0,\n",
       "   200.0,\n",
       "   200.0,\n",
       "   200.0,\n",
       "   171.941,\n",
       "   107.517,\n",
       "   61.5414,\n",
       "   36.073,\n",
       "   23.0367,\n",
       "   10.6066),\n",
       "  0.0,\n",
       "  0.0,\n",
       "  1.4623e-06],\n",
       " [1.0017937864744392e-05,\n",
       "  3085.83,\n",
       "  (10.6066,\n",
       "   23.0366,\n",
       "   36.0729,\n",
       "   61.5414,\n",
       "   107.517,\n",
       "   171.941,\n",
       "   200.0,\n",
       "   200.0,\n",
       "   200.0,\n",
       "   200.0,\n",
       "   200.0,\n",
       "   200.0,\n",
       "   200.0,\n",
       "   171.941,\n",
       "   107.517,\n",
       "   61.5414,\n",
       "   36.073,\n",
       "   23.0367,\n",
       "   10.6066),\n",
       "  0.0,\n",
       "  0.0,\n",
       "  1.4623e-06],\n",
       " [1.0017937864744392e-05,\n",
       "  3085.83,\n",
       "  (10.6066,\n",
       "   23.0366,\n",
       "   36.0729,\n",
       "   61.5414,\n",
       "   107.517,\n",
       "   171.941,\n",
       "   200.0,\n",
       "   200.0,\n",
       "   200.0,\n",
       "   200.0,\n",
       "   200.0,\n",
       "   200.0,\n",
       "   200.0,\n",
       "   171.941,\n",
       "   107.517,\n",
       "   61.5414,\n",
       "   36.073,\n",
       "   23.0367,\n",
       "   10.6066),\n",
       "  0.0,\n",
       "  0.0,\n",
       "  1.4623e-06],\n",
       " [1.0017937864744392e-05,\n",
       "  3085.83,\n",
       "  (10.6066,\n",
       "   23.0366,\n",
       "   36.0729,\n",
       "   61.5414,\n",
       "   107.517,\n",
       "   171.941,\n",
       "   200.0,\n",
       "   200.0,\n",
       "   200.0,\n",
       "   200.0,\n",
       "   200.0,\n",
       "   200.0,\n",
       "   200.0,\n",
       "   171.941,\n",
       "   107.517,\n",
       "   61.5414,\n",
       "   36.073,\n",
       "   23.0367,\n",
       "   10.6066),\n",
       "  0.0,\n",
       "  0.0,\n",
       "  1.4623e-06]]"
      ]
     },
     "execution_count": 53,
     "metadata": {},
     "output_type": "execute_result"
    }
   ],
   "source": [
    "list(states)[:4]"
   ]
  },
  {
   "cell_type": "code",
   "execution_count": 16,
   "metadata": {},
   "outputs": [
    {
     "name": "stdout",
     "output_type": "stream",
     "text": [
      "Populating the interactive namespace from numpy and matplotlib\n"
     ]
    },
    {
     "name": "stderr",
     "output_type": "stream",
     "text": [
      "/home/kku/.miniconda3/lib/python3.7/site-packages/IPython/core/magics/pylab.py:160: UserWarning: pylab import has clobbered these variables: ['f']\n",
      "`%matplotlib` prevents importing * from pylab and numpy\n",
      "  \"\\n`%matplotlib` prevents importing * from pylab and numpy\"\n"
     ]
    },
    {
     "data": {
      "text/plain": [
       "[<matplotlib.lines.Line2D at 0x7f7a4c570ba8>]"
      ]
     },
     "execution_count": 16,
     "metadata": {},
     "output_type": "execute_result"
    },
    {
     "data": {
      "image/png": "[encoded data removed]",
      "text/plain": [
       "<Figure size 432x288 with 1 Axes>"
      ]
     },
     "metadata": {
      "needs_background": "light"
     },
     "output_type": "display_data"
    }
   ],
   "source": [
    "%pylab inline\n",
    "d = np.array(([\n",
    "    (\n",
    "        x['x'],\n",
    "        x['y'],\n",
    "    ) for x in data ]), dtype='float')\n",
    "plt.plot(d[:,0], d[:,1])"
   ]
  },
  {
   "cell_type": "code",
   "execution_count": 17,
   "metadata": {},
   "outputs": [
    {
     "data": {
      "text/plain": [
       "(6574, 2749.6, 0.543646)"
      ]
     },
     "execution_count": 17,
     "metadata": {},
     "output_type": "execute_result"
    }
   ],
   "source": [
    "hardest_i = np.abs(d[:,1]).argmax()\n",
    "hardest_i, *tuple(d[hardest_i])"
   ]
  },
  {
   "cell_type": "code",
   "execution_count": 18,
   "metadata": {},
   "outputs": [
    {
     "data": {
      "text/plain": [
       "'[3.7464, 9.07057, 15.9321, 35.4147, 135.148, 200.0, 200.0, 200.0, 199.762, 165.764, 141.664, 123.691, 105.045, 89.6223, 70.3063, 49.2048, 32.9407, 22.7269, 11.436]'"
      ]
     },
     "execution_count": 18,
     "metadata": {},
     "output_type": "execute_result"
    }
   ],
   "source": [
    "data[hardest_i]['track']"
   ]
  },
  {
   "cell_type": "code",
   "execution_count": 9,
   "metadata": {},
   "outputs": [
    {
     "data": {
      "text/plain": [
       "'3.28922'"
      ]
     },
     "execution_count": 9,
     "metadata": {},
     "output_type": "execute_result"
    }
   ],
   "source": [
    "data[hardest_i]['speedY']"
   ]
  },
  {
   "cell_type": "code",
   "execution_count": 10,
   "metadata": {},
   "outputs": [
    {
     "data": {
      "text/plain": [
       "59"
      ]
     },
     "execution_count": 10,
     "metadata": {},
     "output_type": "execute_result"
    }
   ],
   "source": [
    "np.sum(d[:, 0] == d[0,0])"
   ]
  },
  {
   "cell_type": "code",
   "execution_count": 58,
   "metadata": {},
   "outputs": [
    {
     "data": {
      "text/plain": [
       "[[190,\n",
       "  [[40, 150.97],\n",
       "   [190, 130.03],\n",
       "   [340, 130.03],\n",
       "   [265.0, 130.03],\n",
       "   [227.5, 130.03],\n",
       "   [208.75, 130.03],\n",
       "   [199.375, 130.03],\n",
       "   [194.6875, 130.03],\n",
       "   [192.34375, 130.03],\n",
       "   [191.171875, 130.03]]],\n",
       " [154.84375,\n",
       "  [[40, 130.03],\n",
       "   [190, inf],\n",
       "   [115.0, 106.97],\n",
       "   [190.0, inf],\n",
       "   [152.5, 103.24],\n",
       "   [190.0, inf],\n",
       "   [171.25, inf],\n",
       "   [161.875, inf],\n",
       "   [157.1875, inf],\n",
       "   [154.84375, 103.11],\n",
       "   [157.1875, inf],\n",
       "   [156.015625, inf]]],\n",
       " [164.21875,\n",
       "  [[40, 103.11],\n",
       "   [190, inf],\n",
       "   [115.0, 80.24],\n",
       "   [190.0, inf],\n",
       "   [152.5, 76.48],\n",
       "   [190.0, inf],\n",
       "   [171.25, inf],\n",
       "   [161.875, 76.03],\n",
       "   [171.25, inf],\n",
       "   [166.5625, inf],\n",
       "   [164.21875, 75.88],\n",
       "   [166.5625, inf],\n",
       "   [165.390625, inf]]],\n",
       " [52.890625,\n",
       "  [[40, 75.88],\n",
       "   [190, inf],\n",
       "   [115.0, inf],\n",
       "   [77.5, inf],\n",
       "   [58.75, inf],\n",
       "   [49.375, 67.74],\n",
       "   [58.75, inf],\n",
       "   [54.0625, inf],\n",
       "   [51.71875, 66.22],\n",
       "   [54.0625, inf],\n",
       "   [52.890625, 65.47],\n",
       "   [54.0625, inf]]]]"
      ]
     },
     "execution_count": 58,
     "metadata": {},
     "output_type": "execute_result"
    }
   ],
   "source": [
    "with open('logs/speed_limits.log') as f:\n",
    "#     data = [json.loads(x) for x in f]\n",
    "    data = json.loads(f.read())\n",
    "data"
   ]
  },
  {
   "cell_type": "code",
   "execution_count": 18,
   "metadata": {},
   "outputs": [
    {
     "data": {
      "text/plain": [
       "[(1, 2), (3, 4), (5, 6), (7, 8)]"
      ]
     },
     "execution_count": 18,
     "metadata": {},
     "output_type": "execute_result"
    }
   ],
   "source": [
    "x = [1,2,3,4,5,6,7,8]\n",
    "list(zip(x[::2], x[1::2]))"
   ]
  }
 ],
 "metadata": {
  "kernelspec": {
   "display_name": "Python 3",
   "language": "python",
   "name": "python3"
  },
  "language_info": {
   "codemirror_mode": {
    "name": "ipython",
    "version": 3
   },
   "file_extension": ".py",
   "mimetype": "text/x-python",
   "name": "python",
   "nbconvert_exporter": "python",
   "pygments_lexer": "ipython3",
   "version": "3.7.0"
  }
 },
 "nbformat": 4,
 "nbformat_minor": 2
}
