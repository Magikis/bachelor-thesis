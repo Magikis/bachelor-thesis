{
 "cells": [
  {
   "cell_type": "code",
   "execution_count": 39,
   "metadata": {},
   "outputs": [],
   "source": [
    "logfileovveride = 'logs/2018-11-15_12:56:18_870.agent.log'\n",
    "\n",
    "\n",
    "import glob\n",
    "import csv\n",
    "import numpy as np\n",
    "logs = glob.glob(\"logs/*.agent.log\")\n",
    "logs.sort()\n",
    "newest_log_filename = logs[-1]\n",
    "with open(newest_log_filename if not logfileovveride else logfileovveride) as f:\n",
    "    reader = csv.DictReader(f)\n",
    "    data = list(reader)"
   ]
  },
  {
   "cell_type": "code",
   "execution_count": 40,
   "metadata": {},
   "outputs": [],
   "source": [
    "d = np.array(([\n",
    "    (\n",
    "#         x['distFromStart'],\n",
    "        x['trackPos']\n",
    "    ) for x in data ]), dtype='float')"
   ]
  },
  {
   "cell_type": "code",
   "execution_count": 41,
   "metadata": {},
   "outputs": [
    {
     "data": {
      "text/plain": [
       "(0.543646, -0.38663, -1.08372e-05)"
      ]
     },
     "execution_count": 41,
     "metadata": {},
     "output_type": "execute_result"
    }
   ],
   "source": [
    "d[:].max(), d[:].min(), d[0]"
   ]
  },
  {
   "cell_type": "code",
   "execution_count": 15,
   "metadata": {},
   "outputs": [
    {
     "data": {
      "text/plain": [
       "(13861, 2)"
      ]
     },
     "execution_count": 15,
     "metadata": {},
     "output_type": "execute_result"
    }
   ],
   "source": [
    "d.shape"
   ]
  },
  {
   "cell_type": "code",
   "execution_count": 16,
   "metadata": {},
   "outputs": [
    {
     "data": {
      "text/plain": [
       "(546, 2)"
      ]
     },
     "execution_count": 16,
     "metadata": {},
     "output_type": "execute_result"
    }
   ],
   "source": [
    "out_of_track = np.abs(d[:, 1]) > 0.2\n",
    "d[out_of_track].shape"
   ]
  },
  {
   "cell_type": "code",
   "execution_count": 17,
   "metadata": {},
   "outputs": [
    {
     "data": {
      "text/plain": [
       "(6574, 2749.6, 0.543646)"
      ]
     },
     "execution_count": 17,
     "metadata": {},
     "output_type": "execute_result"
    }
   ],
   "source": [
    "hardest_i = np.abs(d[:,1]).argmax()\n",
    "hardest_i, *tuple(d[hardest_i])"
   ]
  },
  {
   "cell_type": "code",
   "execution_count": 18,
   "metadata": {},
   "outputs": [
    {
     "data": {
      "text/plain": [
       "'[3.7464, 9.07057, 15.9321, 35.4147, 135.148, 200.0, 200.0, 200.0, 199.762, 165.764, 141.664, 123.691, 105.045, 89.6223, 70.3063, 49.2048, 32.9407, 22.7269, 11.436]'"
      ]
     },
     "execution_count": 18,
     "metadata": {},
     "output_type": "execute_result"
    }
   ],
   "source": [
    "data[hardest_i]['track']"
   ]
  },
  {
   "cell_type": "code",
   "execution_count": 9,
   "metadata": {},
   "outputs": [
    {
     "data": {
      "text/plain": [
       "'3.28922'"
      ]
     },
     "execution_count": 9,
     "metadata": {},
     "output_type": "execute_result"
    }
   ],
   "source": [
    "data[hardest_i]['speedY']"
   ]
  },
  {
   "cell_type": "code",
   "execution_count": 10,
   "metadata": {},
   "outputs": [
    {
     "data": {
      "text/plain": [
       "59"
      ]
     },
     "execution_count": 10,
     "metadata": {},
     "output_type": "execute_result"
    }
   ],
   "source": [
    "np.sum(d[:, 0] == d[0,0])"
   ]
  },
  {
   "cell_type": "code",
   "execution_count": 11,
   "metadata": {},
   "outputs": [
    {
     "data": {
      "text/plain": [
       "array(['-0.982', '-0.962', '-0.942', '-0.922', '-0.902', '-0.882',\n",
       "       '-0.862', '-0.842', '-0.822', '-0.802', '-0.782', '-0.762',\n",
       "       '-0.742', '-0.722', '-0.702', '-0.682', '-0.662', '-0.642',\n",
       "       '-0.622', '-0.602', '-0.582', '-0.562', '-0.542', '-0.522',\n",
       "       '-0.502', '-0.482', '-0.462', '-0.442', '-0.422', '-0.402',\n",
       "       '-0.382', '-0.362', '-0.342', '-0.322', '-0.302', '-0.282',\n",
       "       '-0.262', '-0.242', '-0.222', '-0.202', '-0.182', '-0.162',\n",
       "       '-0.142', '-0.122', '-0.102', '-0.082', '-0.062', '-0.042',\n",
       "       '-0.022', '0.018', '0.038', '0.058', '0.078', '0.098', '0.118',\n",
       "       '0.138', '0.158', '0.178', '0.198', '0.218', '0.238', '0.26',\n",
       "       '0.28', '0.3', '0.32', '0.34', '0.36', '0.38', '0.4', '0.42',\n",
       "       '0.44', '0.46', '0.48', '0.502', '0.522', '0.542', '0.562',\n",
       "       '0.582', '0.602', '0.622', '0.642', '0.662', '0.682', '0.702',\n",
       "       '0.722', '0.742', '0.762', '0.782', '0.802', '0.822', '0.842',\n",
       "       '0.862', '0.882', '0.902', '0.922', '0.942', '0.962', '0.982',\n",
       "       '1.004', '1.024'], dtype='<U9')"
      ]
     },
     "execution_count": 11,
     "metadata": {},
     "output_type": "execute_result"
    }
   ],
   "source": [
    "a = np.array([x['curLapTime'] for x in data])\n",
    "a[:100]"
   ]
  },
  {
   "cell_type": "code",
   "execution_count": 19,
   "metadata": {},
   "outputs": [
    {
     "ename": "TypeError",
     "evalue": "can only concatenate list (not \"int\") to list",
     "output_type": "error",
     "traceback": [
      "\u001b[0;31m---------------------------------------------------------------------------\u001b[0m",
      "\u001b[0;31mTypeError\u001b[0m                                 Traceback (most recent call last)",
      "\u001b[0;32m<ipython-input-19-c60492adb766>\u001b[0m in \u001b[0;36m<module>\u001b[0;34m\u001b[0m\n\u001b[0;32m----> 1\u001b[0;31m \u001b[0;34m[\u001b[0m\u001b[0;36m2\u001b[0m\u001b[0;34m,\u001b[0m\u001b[0;36m3\u001b[0m\u001b[0;34m]\u001b[0m \u001b[0;34m+\u001b[0m \u001b[0;36m2\u001b[0m\u001b[0;34m\u001b[0m\u001b[0m\n\u001b[0m",
      "\u001b[0;31mTypeError\u001b[0m: can only concatenate list (not \"int\") to list"
     ]
    }
   ],
   "source": []
  }
 ],
 "metadata": {
  "kernelspec": {
   "display_name": "Python 3",
   "language": "python",
   "name": "python3"
  },
  "language_info": {
   "codemirror_mode": {
    "name": "ipython",
    "version": 3
   },
   "file_extension": ".py",
   "mimetype": "text/x-python",
   "name": "python",
   "nbconvert_exporter": "python",
   "pygments_lexer": "ipython3",
   "version": "3.7.0"
  }
 },
 "nbformat": 4,
 "nbformat_minor": 2
}
