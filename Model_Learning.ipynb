{
 "cells": [
  {
   "cell_type": "code",
   "execution_count": 7,
   "metadata": {},
   "outputs": [
    {
     "name": "stdout",
     "output_type": "stream",
     "text": [
      "The autoreload extension is already loaded. To reload it, use:\n",
      "  %reload_ext autoreload\n"
     ]
    }
   ],
   "source": [
    "%load_ext autoreload\n",
    "%autoreload 2\n",
    "import sklearn\n",
    "from sklearn.preprocessing import StandardScaler\n",
    "from sklearn.neural_network import MLPClassifier\n",
    "from keras.utils.np_utils import to_categorical\n",
    "from keras.models import Sequential\n",
    "from keras.layers import Dense\n",
    "import numpy as np\n",
    "from agents.knn import *\n",
    "from settings import settings\n",
    "\n",
    "def reduce_actions(actions):\n",
    "    s = np.unique(np.array([a['steer'] for a in actions]))\n",
    "    s.sort()\n",
    "    steer_values = np.unique(np.concatenate((\n",
    "        np.linspace(-1, -0.1, 15),\n",
    "        np.linspace(-0.1, 0 , 6),\n",
    "        np.linspace(0, 0.1, 6),\n",
    "        np.linspace(0.1, 1, 15),\n",
    "    )))\n",
    "    return [\n",
    "        {\n",
    "            **a,\n",
    "            'steer': steer_values[\n",
    "                np.argmin(\n",
    "                    np.abs(\n",
    "                        steer_values - a['steer']\n",
    "                    )\n",
    "                 )\n",
    "            ]\n",
    "        } \n",
    "        for a in actions\n",
    "    ]"
   ]
  },
  {
   "cell_type": "code",
   "execution_count": 21,
   "metadata": {},
   "outputs": [],
   "source": [
    "data = parse_dataset('/home/i279079/important_logs')\n",
    "state_keys = settings['state_keys']\n",
    "states, actions = extract_parameters(data)\n",
    "Y, actions = unify_actions(actions)\n",
    "X = np.array(states)\n",
    "Y = np.array(Y)"
   ]
  },
  {
   "cell_type": "code",
   "execution_count": 24,
   "metadata": {},
   "outputs": [
    {
     "data": {
      "text/plain": [
       "['speedX', 'speedY', 'speedZ', 'angle', 'trackPos', 'track', 'wheelSpinVel']"
      ]
     },
     "execution_count": 24,
     "metadata": {},
     "output_type": "execute_result"
    }
   ],
   "source": [
    "state_keys"
   ]
  },
  {
   "cell_type": "code",
   "execution_count": 29,
   "metadata": {},
   "outputs": [],
   "source": [
    "state_keys = settings['state_keys'] \n",
    "states, actions = extract_parameters(data, action_keys=[\n",
    "    'accel',\n",
    "    'brake',\n",
    "    'steer']\n",
    ")\n",
    "# self.actions = actions\n",
    "# Reducinf actions set\n",
    "# reduced_actons = reduce_actions(actions)\n",
    "Y, actions = unify_actions(reduced_actons)\n",
    "Y = to_categorical(Y)\n",
    "\n",
    "X = np.array(states)\n",
    "X, Y = sklearn.utils.shuffle(X, np.array(Y))\n"
   ]
  },
  {
   "cell_type": "code",
   "execution_count": 30,
   "metadata": {
    "collapsed": true
   },
   "outputs": [],
   "source": [
    "X_train, X_test, Y_train, Y_test = sklearn.model_selection.train_test_split(X, Y, test_size=0.20)"
   ]
  },
  {
   "cell_type": "code",
   "execution_count": 32,
   "metadata": {},
   "outputs": [
    {
     "name": "stdout",
     "output_type": "stream",
     "text": [
      "(24333, 28)\n",
      "Train on 24333 samples, validate on 6084 samples\n",
      "Epoch 1/150\n",
      "24333/24333 [==============================] - 0s - loss: 2.8782 - acc: 0.5922 - val_loss: 2.2360 - val_acc: 0.6164\n",
      "Epoch 2/150\n",
      "24333/24333 [==============================] - 0s - loss: 1.7728 - acc: 0.6167 - val_loss: 2.4457 - val_acc: 0.6164\n",
      "Epoch 3/150\n",
      "24333/24333 [==============================] - 0s - loss: 1.6081 - acc: 0.6167 - val_loss: 2.5931 - val_acc: 0.6164\n",
      "Epoch 4/150\n",
      "24333/24333 [==============================] - 0s - loss: 1.5162 - acc: 0.6167 - val_loss: 2.7068 - val_acc: 0.6164\n",
      "Epoch 5/150\n",
      "24333/24333 [==============================] - 0s - loss: 1.4416 - acc: 0.6168 - val_loss: 2.6834 - val_acc: 0.6164\n",
      "Epoch 6/150\n",
      "24333/24333 [==============================] - 0s - loss: 1.3767 - acc: 0.6329 - val_loss: 2.6644 - val_acc: 0.6164\n",
      "Epoch 7/150\n",
      "24333/24333 [==============================] - 0s - loss: 1.3067 - acc: 0.6594 - val_loss: 2.6616 - val_acc: 0.6183\n",
      "Epoch 8/150\n",
      "24333/24333 [==============================] - 0s - loss: 1.2420 - acc: 0.6738 - val_loss: 2.5752 - val_acc: 0.6195\n",
      "Epoch 9/150\n",
      "24333/24333 [==============================] - 0s - loss: 1.1757 - acc: 0.6843 - val_loss: 2.6324 - val_acc: 0.6190\n",
      "Epoch 10/150\n",
      "24333/24333 [==============================] - 0s - loss: 1.1242 - acc: 0.6910 - val_loss: 2.6865 - val_acc: 0.6193\n",
      "Epoch 11/150\n",
      "24333/24333 [==============================] - 0s - loss: 1.0723 - acc: 0.7018 - val_loss: 2.6462 - val_acc: 0.6193\n",
      "Epoch 12/150\n",
      "24333/24333 [==============================] - 0s - loss: 1.0296 - acc: 0.7114 - val_loss: 2.8699 - val_acc: 0.6193\n",
      "Epoch 13/150\n",
      "24333/24333 [==============================] - 0s - loss: 0.9908 - acc: 0.7206 - val_loss: 2.7511 - val_acc: 0.6188\n",
      "Epoch 14/150\n",
      "24333/24333 [==============================] - 0s - loss: 0.9603 - acc: 0.7265 - val_loss: 2.7844 - val_acc: 0.6193\n",
      "Epoch 15/150\n",
      "24333/24333 [==============================] - 0s - loss: 0.9349 - acc: 0.7303 - val_loss: 2.7926 - val_acc: 0.6193\n",
      "Epoch 16/150\n",
      "24333/24333 [==============================] - 0s - loss: 0.9018 - acc: 0.7392 - val_loss: 2.8336 - val_acc: 0.6192\n",
      "Epoch 17/150\n",
      "24333/24333 [==============================] - 0s - loss: 0.8832 - acc: 0.7401 - val_loss: 2.9995 - val_acc: 0.6188\n",
      "Epoch 18/150\n",
      "24333/24333 [==============================] - 0s - loss: 0.8582 - acc: 0.7476 - val_loss: 2.9821 - val_acc: 0.6193\n",
      "Epoch 19/150\n",
      "24333/24333 [==============================] - 0s - loss: 0.8340 - acc: 0.7551 - val_loss: 2.9857 - val_acc: 0.6185\n",
      "Epoch 20/150\n",
      "24333/24333 [==============================] - 0s - loss: 0.8192 - acc: 0.7578 - val_loss: 3.2764 - val_acc: 0.6192\n",
      "Epoch 21/150\n",
      "24333/24333 [==============================] - 0s - loss: 0.8025 - acc: 0.7616 - val_loss: 2.9062 - val_acc: 0.6193\n",
      "Epoch 22/150\n",
      "24333/24333 [==============================] - 0s - loss: 0.7821 - acc: 0.7658 - val_loss: 3.2209 - val_acc: 0.6193\n",
      "Epoch 23/150\n",
      "24333/24333 [==============================] - 0s - loss: 0.7706 - acc: 0.7678 - val_loss: 3.2319 - val_acc: 0.6185\n",
      "Epoch 24/150\n",
      "24333/24333 [==============================] - 0s - loss: 0.7544 - acc: 0.7736 - val_loss: 3.3343 - val_acc: 0.6193\n",
      "Epoch 25/150\n",
      "24333/24333 [==============================] - 0s - loss: 0.7474 - acc: 0.7718 - val_loss: 3.3896 - val_acc: 0.6183\n",
      "Epoch 26/150\n",
      "24333/24333 [==============================] - 0s - loss: 0.7289 - acc: 0.7805 - val_loss: 3.4262 - val_acc: 0.6180\n",
      "Epoch 27/150\n",
      "24333/24333 [==============================] - 0s - loss: 0.7154 - acc: 0.7824 - val_loss: 3.3304 - val_acc: 0.6185\n",
      "Epoch 28/150\n",
      "24333/24333 [==============================] - 0s - loss: 0.6975 - acc: 0.7852 - val_loss: 3.5040 - val_acc: 0.6185\n",
      "Epoch 29/150\n",
      "24333/24333 [==============================] - 0s - loss: 0.6912 - acc: 0.7884 - val_loss: 3.5722 - val_acc: 0.6180\n",
      "Epoch 30/150\n",
      "24333/24333 [==============================] - 0s - loss: 0.6626 - acc: 0.7960 - val_loss: 3.5235 - val_acc: 0.6187\n",
      "Epoch 31/150\n",
      "24333/24333 [==============================] - 0s - loss: 0.6618 - acc: 0.7964 - val_loss: 3.7908 - val_acc: 0.6183\n",
      "Epoch 32/150\n",
      "24333/24333 [==============================] - 0s - loss: 0.6600 - acc: 0.7946 - val_loss: 3.6123 - val_acc: 0.6183\n",
      "Epoch 33/150\n",
      "24333/24333 [==============================] - 0s - loss: 0.6318 - acc: 0.8053 - val_loss: 3.6764 - val_acc: 0.6182\n",
      "Epoch 34/150\n",
      "24333/24333 [==============================] - 0s - loss: 0.6337 - acc: 0.8020 - val_loss: 3.7581 - val_acc: 0.6180\n",
      "Epoch 35/150\n",
      "24333/24333 [==============================] - 0s - loss: 0.6080 - acc: 0.8128 - val_loss: 3.7244 - val_acc: 0.6180\n",
      "Epoch 36/150\n",
      "24333/24333 [==============================] - 0s - loss: 0.5972 - acc: 0.8161 - val_loss: 3.8869 - val_acc: 0.6182\n",
      "Epoch 37/150\n",
      "24333/24333 [==============================] - 0s - loss: 0.5911 - acc: 0.8174 - val_loss: 3.6087 - val_acc: 0.6185\n",
      "Epoch 38/150\n",
      "24333/24333 [==============================] - 0s - loss: 0.5946 - acc: 0.8158 - val_loss: 3.7714 - val_acc: 0.6183\n",
      "Epoch 39/150\n",
      "24333/24333 [==============================] - 0s - loss: 0.5824 - acc: 0.8163 - val_loss: 3.9305 - val_acc: 0.6183\n",
      "Epoch 40/150\n",
      "24333/24333 [==============================] - 0s - loss: 0.5732 - acc: 0.8202 - val_loss: 3.8692 - val_acc: 0.6182\n",
      "Epoch 41/150\n",
      "24333/24333 [==============================] - 0s - loss: 0.5526 - acc: 0.8273 - val_loss: 3.8962 - val_acc: 0.6182\n",
      "Epoch 42/150\n",
      "24333/24333 [==============================] - 0s - loss: 0.5472 - acc: 0.8284 - val_loss: 3.8812 - val_acc: 0.6182\n",
      "Epoch 43/150\n",
      "24333/24333 [==============================] - 0s - loss: 0.5504 - acc: 0.8262 - val_loss: 3.8834 - val_acc: 0.6183\n",
      "Epoch 44/150\n",
      "24333/24333 [==============================] - 0s - loss: 0.5306 - acc: 0.8336 - val_loss: 4.0387 - val_acc: 0.6182\n",
      "Epoch 45/150\n",
      "24333/24333 [==============================] - 0s - loss: 0.5256 - acc: 0.8354 - val_loss: 4.0272 - val_acc: 0.6182\n",
      "Epoch 46/150\n",
      "24333/24333 [==============================] - 0s - loss: 0.5350 - acc: 0.8272 - val_loss: 4.0734 - val_acc: 0.6182\n",
      "Epoch 47/150\n",
      "24333/24333 [==============================] - 0s - loss: 0.5265 - acc: 0.8299 - val_loss: 4.0282 - val_acc: 0.6182\n",
      "Epoch 48/150\n",
      "24333/24333 [==============================] - 0s - loss: 0.5063 - acc: 0.8413 - val_loss: 3.9751 - val_acc: 0.6182\n",
      "Epoch 49/150\n",
      "24333/24333 [==============================] - 0s - loss: 0.4913 - acc: 0.8444 - val_loss: 3.9410 - val_acc: 0.6182\n",
      "Epoch 50/150\n",
      "24333/24333 [==============================] - 0s - loss: 0.4897 - acc: 0.8450 - val_loss: 4.1437 - val_acc: 0.6182\n",
      "Epoch 51/150\n",
      "24333/24333 [==============================] - 0s - loss: 0.4805 - acc: 0.8484 - val_loss: 4.0744 - val_acc: 0.6182\n",
      "Epoch 52/150\n",
      "24333/24333 [==============================] - 0s - loss: 0.4707 - acc: 0.8510 - val_loss: 4.1312 - val_acc: 0.6182\n",
      "Epoch 53/150\n",
      "24333/24333 [==============================] - 0s - loss: 0.4726 - acc: 0.8502 - val_loss: 4.1050 - val_acc: 0.6182\n",
      "Epoch 54/150\n",
      "24333/24333 [==============================] - 0s - loss: 0.4685 - acc: 0.8527 - val_loss: 4.1797 - val_acc: 0.6182\n",
      "Epoch 55/150\n",
      "24333/24333 [==============================] - 0s - loss: 0.4513 - acc: 0.8580 - val_loss: 4.1728 - val_acc: 0.6183\n",
      "Epoch 56/150\n",
      "24333/24333 [==============================] - 0s - loss: 0.4570 - acc: 0.8538 - val_loss: 4.2379 - val_acc: 0.6182\n",
      "Epoch 57/150\n",
      "24333/24333 [==============================] - 0s - loss: 0.4505 - acc: 0.8541 - val_loss: 4.3126 - val_acc: 0.6180\n",
      "Epoch 58/150\n",
      "24333/24333 [==============================] - 0s - loss: 0.4451 - acc: 0.8583 - val_loss: 4.3519 - val_acc: 0.6182\n",
      "Epoch 59/150\n",
      "24333/24333 [==============================] - 0s - loss: 0.4364 - acc: 0.8598 - val_loss: 4.1405 - val_acc: 0.6182\n",
      "Epoch 60/150\n",
      "24333/24333 [==============================] - 0s - loss: 0.4403 - acc: 0.8586 - val_loss: 4.2124 - val_acc: 0.6182\n",
      "Epoch 61/150\n",
      "24333/24333 [==============================] - 0s - loss: 0.4279 - acc: 0.8623 - val_loss: 4.3033 - val_acc: 0.6180\n",
      "Epoch 62/150\n",
      "24333/24333 [==============================] - 0s - loss: 0.4271 - acc: 0.8653 - val_loss: 4.3570 - val_acc: 0.6182\n",
      "Epoch 63/150\n",
      "24333/24333 [==============================] - 0s - loss: 0.4232 - acc: 0.8630 - val_loss: 4.2308 - val_acc: 0.6182\n",
      "Epoch 64/150\n"
     ]
    },
    {
     "name": "stdout",
     "output_type": "stream",
     "text": [
      "24333/24333 [==============================] - 0s - loss: 0.4311 - acc: 0.8581 - val_loss: 4.4545 - val_acc: 0.6180\n",
      "Epoch 65/150\n",
      "24333/24333 [==============================] - 0s - loss: 0.4247 - acc: 0.8650 - val_loss: 4.4133 - val_acc: 0.6182\n",
      "Epoch 66/150\n",
      "24333/24333 [==============================] - 0s - loss: 0.4110 - acc: 0.8689 - val_loss: 4.3888 - val_acc: 0.6180\n",
      "Epoch 67/150\n",
      "24333/24333 [==============================] - 0s - loss: 0.3987 - acc: 0.8714 - val_loss: 4.3751 - val_acc: 0.6182\n",
      "Epoch 68/150\n",
      "24333/24333 [==============================] - 0s - loss: 0.4098 - acc: 0.8660 - val_loss: 4.3817 - val_acc: 0.6179\n",
      "Epoch 69/150\n",
      "24333/24333 [==============================] - 0s - loss: 0.3940 - acc: 0.8744 - val_loss: 4.4925 - val_acc: 0.6182\n",
      "Epoch 70/150\n",
      "24333/24333 [==============================] - 0s - loss: 0.3743 - acc: 0.8809 - val_loss: 4.3875 - val_acc: 0.6182\n",
      "Epoch 71/150\n",
      "24333/24333 [==============================] - 0s - loss: 0.3796 - acc: 0.8767 - val_loss: 4.3678 - val_acc: 0.6182\n",
      "Epoch 72/150\n",
      "24333/24333 [==============================] - 0s - loss: 0.3889 - acc: 0.8727 - val_loss: 4.5169 - val_acc: 0.6182\n",
      "Epoch 73/150\n",
      "24333/24333 [==============================] - 0s - loss: 0.3792 - acc: 0.8734 - val_loss: 4.4402 - val_acc: 0.6182\n",
      "Epoch 74/150\n",
      "24333/24333 [==============================] - 0s - loss: 0.3679 - acc: 0.8806 - val_loss: 4.4613 - val_acc: 0.6182\n",
      "Epoch 75/150\n",
      "24333/24333 [==============================] - 0s - loss: 0.3744 - acc: 0.8748 - val_loss: 4.5364 - val_acc: 0.6182\n",
      "Epoch 76/150\n",
      "24333/24333 [==============================] - 0s - loss: 0.3653 - acc: 0.8806 - val_loss: 4.5651 - val_acc: 0.6182\n",
      "Epoch 77/150\n",
      "24333/24333 [==============================] - 0s - loss: 0.3543 - acc: 0.8866 - val_loss: 4.4447 - val_acc: 0.6182\n",
      "Epoch 78/150\n",
      "24333/24333 [==============================] - 0s - loss: 0.3594 - acc: 0.8834 - val_loss: 4.5263 - val_acc: 0.6182\n",
      "Epoch 79/150\n",
      "24333/24333 [==============================] - 0s - loss: 0.3553 - acc: 0.8835 - val_loss: 4.6594 - val_acc: 0.6182\n",
      "Epoch 80/150\n",
      "24333/24333 [==============================] - 0s - loss: 0.3471 - acc: 0.8876 - val_loss: 4.6982 - val_acc: 0.6179\n",
      "Epoch 81/150\n",
      "24333/24333 [==============================] - 0s - loss: 0.3528 - acc: 0.8855 - val_loss: 4.4848 - val_acc: 0.6180\n",
      "Epoch 82/150\n",
      "24333/24333 [==============================] - 0s - loss: 0.3563 - acc: 0.8820 - val_loss: 4.6765 - val_acc: 0.6180\n",
      "Epoch 83/150\n",
      "24333/24333 [==============================] - 0s - loss: 0.3522 - acc: 0.8824 - val_loss: 4.7947 - val_acc: 0.6179\n",
      "Epoch 84/150\n",
      "24333/24333 [==============================] - 0s - loss: 0.3451 - acc: 0.8872 - val_loss: 4.6308 - val_acc: 0.6177\n",
      "Epoch 85/150\n",
      "24333/24333 [==============================] - 0s - loss: 0.3319 - acc: 0.8932 - val_loss: 4.6685 - val_acc: 0.6179\n",
      "Epoch 86/150\n",
      "24333/24333 [==============================] - 0s - loss: 0.3338 - acc: 0.8895 - val_loss: 4.7718 - val_acc: 0.6177\n",
      "Epoch 87/150\n",
      "24333/24333 [==============================] - 0s - loss: 0.3403 - acc: 0.8868 - val_loss: 4.7658 - val_acc: 0.6177\n",
      "Epoch 88/150\n",
      "24333/24333 [==============================] - ETA: 0s - loss: 0.3273 - acc: 0.894 - 0s - loss: 0.3267 - acc: 0.8948 - val_loss: 4.7879 - val_acc: 0.6179\n",
      "Epoch 89/150\n",
      "24333/24333 [==============================] - 0s - loss: 0.3226 - acc: 0.8952 - val_loss: 4.6726 - val_acc: 0.6182\n",
      "Epoch 90/150\n",
      "24333/24333 [==============================] - 0s - loss: 0.3275 - acc: 0.8913 - val_loss: 4.7167 - val_acc: 0.6175\n",
      "Epoch 91/150\n",
      "24333/24333 [==============================] - 0s - loss: 0.3134 - acc: 0.8970 - val_loss: 4.7314 - val_acc: 0.6179\n",
      "Epoch 92/150\n",
      "24333/24333 [==============================] - 0s - loss: 0.3120 - acc: 0.8987 - val_loss: 4.7300 - val_acc: 0.6182\n",
      "Epoch 93/150\n",
      "24333/24333 [==============================] - 0s - loss: 0.3078 - acc: 0.9002 - val_loss: 4.7026 - val_acc: 0.6177\n",
      "Epoch 94/150\n",
      "24333/24333 [==============================] - 0s - loss: 0.3113 - acc: 0.8964 - val_loss: 4.6462 - val_acc: 0.6182\n",
      "Epoch 95/150\n",
      "24333/24333 [==============================] - 0s - loss: 0.3175 - acc: 0.8956 - val_loss: 4.7278 - val_acc: 0.6180\n",
      "Epoch 96/150\n",
      "24333/24333 [==============================] - 0s - loss: 0.3059 - acc: 0.8996 - val_loss: 4.8251 - val_acc: 0.6172\n",
      "Epoch 97/150\n",
      "24333/24333 [==============================] - 0s - loss: 0.3307 - acc: 0.8876 - val_loss: 4.8547 - val_acc: 0.6170\n",
      "Epoch 98/150\n",
      "24333/24333 [==============================] - 0s - loss: 0.3005 - acc: 0.9015 - val_loss: 4.8652 - val_acc: 0.6177\n",
      "Epoch 99/150\n",
      "24333/24333 [==============================] - 0s - loss: 0.2934 - acc: 0.9028 - val_loss: 4.9601 - val_acc: 0.6174\n",
      "Epoch 100/150\n",
      "24333/24333 [==============================] - 0s - loss: 0.2886 - acc: 0.9045 - val_loss: 4.9449 - val_acc: 0.6169\n",
      "Epoch 101/150\n",
      "24333/24333 [==============================] - 0s - loss: 0.2923 - acc: 0.9044 - val_loss: 4.8493 - val_acc: 0.6180\n",
      "Epoch 102/150\n",
      "24333/24333 [==============================] - 0s - loss: 0.2853 - acc: 0.9061 - val_loss: 4.7812 - val_acc: 0.6164\n",
      "Epoch 103/150\n",
      "24333/24333 [==============================] - 0s - loss: 0.2864 - acc: 0.9050 - val_loss: 4.8657 - val_acc: 0.6179\n",
      "Epoch 104/150\n",
      "24333/24333 [==============================] - 0s - loss: 0.2851 - acc: 0.9074 - val_loss: 4.8923 - val_acc: 0.6170\n",
      "Epoch 105/150\n",
      "24333/24333 [==============================] - 0s - loss: 0.2775 - acc: 0.9084 - val_loss: 4.9308 - val_acc: 0.6170\n",
      "Epoch 106/150\n",
      "24333/24333 [==============================] - 0s - loss: 0.2734 - acc: 0.9091 - val_loss: 4.9110 - val_acc: 0.6170\n",
      "Epoch 107/150\n",
      "24333/24333 [==============================] - 0s - loss: 0.2692 - acc: 0.9101 - val_loss: 4.9110 - val_acc: 0.6179\n",
      "Epoch 108/150\n",
      "24333/24333 [==============================] - 0s - loss: 0.2718 - acc: 0.9098 - val_loss: 5.0187 - val_acc: 0.6180\n",
      "Epoch 109/150\n",
      "24333/24333 [==============================] - 0s - loss: 0.2815 - acc: 0.9066 - val_loss: 4.9321 - val_acc: 0.6180\n",
      "Epoch 110/150\n",
      "24333/24333 [==============================] - 0s - loss: 0.2803 - acc: 0.9048 - val_loss: 4.9869 - val_acc: 0.6182\n",
      "Epoch 111/150\n",
      "24333/24333 [==============================] - 0s - loss: 0.2706 - acc: 0.9128 - val_loss: 4.9763 - val_acc: 0.6177\n",
      "Epoch 112/150\n",
      "24333/24333 [==============================] - 0s - loss: 0.2678 - acc: 0.9113 - val_loss: 4.9185 - val_acc: 0.6179\n",
      "Epoch 113/150\n",
      "24333/24333 [==============================] - 0s - loss: 0.2688 - acc: 0.9084 - val_loss: 5.0761 - val_acc: 0.6177\n",
      "Epoch 114/150\n",
      "24333/24333 [==============================] - 0s - loss: 0.2611 - acc: 0.9132 - val_loss: 5.0085 - val_acc: 0.6172\n",
      "Epoch 115/150\n",
      "24333/24333 [==============================] - 0s - loss: 0.2643 - acc: 0.9110 - val_loss: 4.9939 - val_acc: 0.6172\n",
      "Epoch 116/150\n",
      "24333/24333 [==============================] - 0s - loss: 0.2712 - acc: 0.9083 - val_loss: 4.9895 - val_acc: 0.6182\n",
      "Epoch 117/150\n",
      "24333/24333 [==============================] - 0s - loss: 0.2719 - acc: 0.9076 - val_loss: 5.0810 - val_acc: 0.6179\n",
      "Epoch 118/150\n",
      "24333/24333 [==============================] - 0s - loss: 0.2588 - acc: 0.9119 - val_loss: 5.0448 - val_acc: 0.6172\n",
      "Epoch 119/150\n",
      "24333/24333 [==============================] - ETA: 0s - loss: 0.2591 - acc: 0.912 - 0s - loss: 0.2626 - acc: 0.9115 - val_loss: 5.0300 - val_acc: 0.6182\n",
      "Epoch 120/150\n",
      "24333/24333 [==============================] - 0s - loss: 0.2636 - acc: 0.9105 - val_loss: 5.0082 - val_acc: 0.6182\n",
      "Epoch 121/150\n",
      "24333/24333 [==============================] - 0s - loss: 0.2730 - acc: 0.9075 - val_loss: 5.0152 - val_acc: 0.6175\n",
      "Epoch 122/150\n",
      "24333/24333 [==============================] - 0s - loss: 0.2497 - acc: 0.9166 - val_loss: 5.0515 - val_acc: 0.6175\n",
      "Epoch 123/150\n",
      "24333/24333 [==============================] - 0s - loss: 0.2571 - acc: 0.9135 - val_loss: 5.0459 - val_acc: 0.6180\n",
      "Epoch 124/150\n",
      "24333/24333 [==============================] - 0s - loss: 0.2536 - acc: 0.9161 - val_loss: 5.0087 - val_acc: 0.6169\n",
      "Epoch 125/150\n",
      "24333/24333 [==============================] - 0s - loss: 0.2603 - acc: 0.9125 - val_loss: 5.0642 - val_acc: 0.6179\n",
      "Epoch 126/150\n"
     ]
    },
    {
     "name": "stdout",
     "output_type": "stream",
     "text": [
      "24333/24333 [==============================] - 0s - loss: 0.2526 - acc: 0.9139 - val_loss: 5.0460 - val_acc: 0.6170\n",
      "Epoch 127/150\n",
      "24333/24333 [==============================] - 0s - loss: 0.2464 - acc: 0.9178 - val_loss: 5.0820 - val_acc: 0.6183\n",
      "Epoch 128/150\n",
      "24333/24333 [==============================] - 0s - loss: 0.2503 - acc: 0.9146 - val_loss: 4.9590 - val_acc: 0.6177\n",
      "Epoch 129/150\n",
      "24333/24333 [==============================] - 0s - loss: 0.2428 - acc: 0.9177 - val_loss: 5.1678 - val_acc: 0.6174\n",
      "Epoch 130/150\n",
      "24333/24333 [==============================] - 0s - loss: 0.2444 - acc: 0.9169 - val_loss: 5.0604 - val_acc: 0.6175\n",
      "Epoch 131/150\n",
      "24333/24333 [==============================] - 0s - loss: 0.2473 - acc: 0.9153 - val_loss: 5.0484 - val_acc: 0.6170\n",
      "Epoch 132/150\n",
      "24333/24333 [==============================] - 0s - loss: 0.2444 - acc: 0.9180 - val_loss: 5.0856 - val_acc: 0.6183\n",
      "Epoch 133/150\n",
      "24333/24333 [==============================] - 0s - loss: 0.2600 - acc: 0.9117 - val_loss: 5.1245 - val_acc: 0.6179\n",
      "Epoch 134/150\n",
      "24333/24333 [==============================] - 0s - loss: 0.2556 - acc: 0.9104 - val_loss: 5.1673 - val_acc: 0.6179\n",
      "Epoch 135/150\n",
      "24333/24333 [==============================] - 0s - loss: 0.2493 - acc: 0.9132 - val_loss: 5.0934 - val_acc: 0.6169\n",
      "Epoch 136/150\n",
      "24333/24333 [==============================] - 0s - loss: 0.2327 - acc: 0.9214 - val_loss: 5.1115 - val_acc: 0.6182\n",
      "Epoch 137/150\n",
      "24333/24333 [==============================] - 0s - loss: 0.2410 - acc: 0.9189 - val_loss: 5.1487 - val_acc: 0.6182\n",
      "Epoch 138/150\n",
      "24333/24333 [==============================] - 0s - loss: 0.2350 - acc: 0.9207 - val_loss: 5.1709 - val_acc: 0.6175\n",
      "Epoch 139/150\n",
      "24333/24333 [==============================] - 0s - loss: 0.2300 - acc: 0.9209 - val_loss: 5.0810 - val_acc: 0.6177\n",
      "Epoch 140/150\n",
      "24333/24333 [==============================] - 0s - loss: 0.2356 - acc: 0.9195 - val_loss: 5.1333 - val_acc: 0.6180\n",
      "Epoch 141/150\n",
      "24333/24333 [==============================] - 0s - loss: 0.2333 - acc: 0.9215 - val_loss: 5.1759 - val_acc: 0.6172\n",
      "Epoch 142/150\n",
      "24333/24333 [==============================] - 0s - loss: 0.2327 - acc: 0.9225 - val_loss: 5.2297 - val_acc: 0.6175\n",
      "Epoch 143/150\n",
      "24333/24333 [==============================] - 0s - loss: 0.2406 - acc: 0.9160 - val_loss: 5.1335 - val_acc: 0.6182\n",
      "Epoch 144/150\n",
      "24333/24333 [==============================] - 0s - loss: 0.2363 - acc: 0.9182 - val_loss: 5.1505 - val_acc: 0.6180\n",
      "Epoch 145/150\n",
      "24333/24333 [==============================] - 0s - loss: 0.2398 - acc: 0.9183 - val_loss: 5.1849 - val_acc: 0.6175\n",
      "Epoch 146/150\n",
      "24333/24333 [==============================] - 0s - loss: 0.2277 - acc: 0.9209 - val_loss: 5.2622 - val_acc: 0.6175\n",
      "Epoch 147/150\n",
      "24333/24333 [==============================] - 0s - loss: 0.2357 - acc: 0.9197 - val_loss: 5.2799 - val_acc: 0.6174\n",
      "Epoch 148/150\n",
      "24333/24333 [==============================] - 0s - loss: 0.2235 - acc: 0.9223 - val_loss: 5.2383 - val_acc: 0.6177\n",
      "Epoch 149/150\n",
      "24333/24333 [==============================] - 0s - loss: 0.2195 - acc: 0.9253 - val_loss: 5.3122 - val_acc: 0.6179\n",
      "Epoch 150/150\n",
      "24333/24333 [==============================] - 0s - loss: 0.2132 - acc: 0.9270 - val_loss: 5.3157 - val_acc: 0.6179\n"
     ]
    },
    {
     "data": {
      "text/plain": [
       "<keras.callbacks.History at 0x7f34c9d1bac8>"
      ]
     },
     "execution_count": 32,
     "metadata": {},
     "output_type": "execute_result"
    }
   ],
   "source": [
    "\n",
    "scaler = StandardScaler()  \n",
    "scaler.fit(X_train)  \n",
    "# classifier = MLPClassifier(hidden_layer_sizes=(3000,2000, 500), max_iter=10000)\n",
    "# classifier = sklearn.ensemble.ExtraTreesClassifier(300, min_samples_leaf=20)\n",
    "model = Sequential()\n",
    "model.add(Dense(5000, input_dim=28, activation='relu'))\n",
    "model.add(Dense(2000, activation='relu'))\n",
    "model.add(Dense(500, activation='sigmoid'))\n",
    "model.add(Dense(\n",
    "#     1,\n",
    "    len(actions),\n",
    "    activation='sigmoid'))\n",
    "model.compile(loss='categorical_crossentropy', optimizer='adam', metrics=['accuracy'])\n",
    "\n",
    "# model.compile(loss='binary_crossentropy', optimizer='adam', metrics=['accuracy'])\n",
    "\n",
    "classifier = model\n",
    "\n",
    "print(scaler.transform(X_train).shape)\n",
    "classifier.fit(\n",
    "    scaler.transform(X_train),\n",
    "    Y_train,\n",
    "    batch_size=1000,\n",
    "    epochs=150,\n",
    "    validation_data=(X_test, Y_test)\n",
    ") "
   ]
  },
  {
   "cell_type": "code",
   "execution_count": 33,
   "metadata": {},
   "outputs": [
    {
     "name": "stdout",
     "output_type": "stream",
     "text": [
      "5472/6084 [=========================>....] - ETA: 0s"
     ]
    },
    {
     "data": {
      "text/plain": [
       "([0.21657571621245003, 0.93116344059507661],\n",
       " [0.57473213134981316, 0.81656804733727806])"
      ]
     },
     "execution_count": 33,
     "metadata": {},
     "output_type": "execute_result"
    }
   ],
   "source": [
    "classifier.evaluate(scaler.transform(X_train), Y_train) , classifier.evaluate(scaler.transform(X_test), Y_test) "
   ]
  },
  {
   "cell_type": "code",
   "execution_count": null,
   "metadata": {},
   "outputs": [],
   "source": [
    "classifier.metrics_names"
   ]
  },
  {
   "cell_type": "code",
   "execution_count": 17,
   "metadata": {},
   "outputs": [
    {
     "name": "stdout",
     "output_type": "stream",
     "text": [
      "1/1 [==============================] - 0s\n"
     ]
    },
    {
     "data": {
      "text/plain": [
       "array([59])"
      ]
     },
     "execution_count": 17,
     "metadata": {},
     "output_type": "execute_result"
    }
   ],
   "source": [
    "classifier.predict_classes(\n",
    "    np.array(X_test[3:4])\n",
    ")"
   ]
  },
  {
   "cell_type": "code",
   "execution_count": null,
   "metadata": {},
   "outputs": [],
   "source": [
    "np.array(X_test[3:4]),np.array(Y_test[3:4])"
   ]
  },
  {
   "cell_type": "code",
   "execution_count": 5,
   "metadata": {},
   "outputs": [],
   "source": [
    "\n",
    "# (reduce_actions(actions))"
   ]
  },
  {
   "cell_type": "code",
   "execution_count": 34,
   "metadata": {},
   "outputs": [
    {
     "name": "stdout",
     "output_type": "stream",
     "text": [
      "Dumping model to: saved_model\n"
     ]
    }
   ],
   "source": [
    "def dump():\n",
    "    path = 'saved_model'\n",
    "    print(f'Dumping model to: {path}')\n",
    "    np.savez(\n",
    "        'saved_model/parameters.npz',\n",
    "        **{\n",
    "            'actions': actions,\n",
    "            'state_keys': state_keys,\n",
    "#             'reduce_actions': reduce_actions\n",
    "        }\n",
    "    \n",
    "    )\n",
    "    classifier.save('saved_model/classifier')\n",
    "    joblib.dump(scaler, 'saved_model/scaler')\n",
    "    \n",
    "dump()\n",
    "    "
   ]
  },
  {
   "cell_type": "code",
   "execution_count": null,
   "metadata": {
    "collapsed": true
   },
   "outputs": [],
   "source": []
  }
 ],
 "metadata": {
  "kernelspec": {
   "display_name": "Python 3",
   "language": "python",
   "name": "python3"
  },
  "language_info": {
   "codemirror_mode": {
    "name": "ipython",
    "version": 3
   },
   "file_extension": ".py",
   "mimetype": "text/x-python",
   "name": "python",
   "nbconvert_exporter": "python",
   "pygments_lexer": "ipython3",
   "version": "3.6.3"
  }
 },
 "nbformat": 4,
 "nbformat_minor": 2
}
