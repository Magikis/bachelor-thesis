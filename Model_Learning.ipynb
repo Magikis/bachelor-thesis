{
 "cells": [
  {
   "cell_type": "code",
   "execution_count": 11,
   "metadata": {},
   "outputs": [
    {
     "name": "stdout",
     "output_type": "stream",
     "text": [
      "The autoreload extension is already loaded. To reload it, use:\n",
      "  %reload_ext autoreload\n"
     ]
    }
   ],
   "source": [
    "%load_ext autoreload\n",
    "%autoreload 2\n",
    "import sklearn\n",
    "from sklearn.preprocessing import StandardScaler\n",
    "from sklearn.neural_network import MLPClassifier\n",
    "from sklearn.svm import SVC\n",
    "import os\n",
    "# from keras.utils.np_utils import to_categorical\n",
    "import numpy as np\n",
    "from agents.knn import *\n",
    "from utils import generate_id\n",
    "from settings import settings\n",
    "\n",
    "# def reduce_actions(actions):\n",
    "#     s = np.unique(np.array([a['steer'] for a in actions]))\n",
    "#     s.sort()\n",
    "#     steer_values = np.unique(np.concatenate((\n",
    "#         np.linspace(-1, -0.1, 15),\n",
    "#         np.linspace(-0.1, 0 , 6),\n",
    "#         np.linspace(0, 0.1, 6),\n",
    "#         np.linspace(0.1, 1, 15),\n",
    "#     )))\n",
    "#     return [\n",
    "#         {\n",
    "#             **a,\n",
    "#             'steer': steer_values[\n",
    "#                 np.argmin(\n",
    "#                     np.abs(\n",
    "#                         steer_values - a['steer']\n",
    "#                     )\n",
    "#                  )\n",
    "#             ]\n",
    "#         } \n",
    "#         for a in actions\n",
    "#     ]"
   ]
  },
  {
   "cell_type": "code",
   "execution_count": 12,
   "metadata": {},
   "outputs": [
    {
     "name": "stdout",
     "output_type": "stream",
     "text": [
      "(78138, 29) (78138,) (243,)\n"
     ]
    }
   ],
   "source": [
    "data = parse_dataset(\n",
    "    '/home/kku/Dropbox/datasets/cg_track_2_2'\n",
    "#     '/home/kku/Dropbox/important_logs',\n",
    "#     8\n",
    ")\n",
    "test_size = 0.10\n",
    "\n",
    "action_keys = [\n",
    "    'steer',\n",
    "    'accel',\n",
    "    'brake'\n",
    "]\n",
    "\n",
    "state_keys = [\n",
    "    'speedX',\n",
    "    'speedY',\n",
    "    'speedZ',\n",
    "    'angle',\n",
    "    'trackPos',\n",
    "    'distFromStart',\n",
    "    'track',\n",
    "    'wheelSpinVel'\n",
    "]\n",
    "\n",
    "states, actions = extract_parameters(\n",
    "    data,\n",
    "    action_keys=action_keys,\n",
    "    state_keys=state_keys\n",
    ")\n",
    "data_actions, actions = unify_actions(actions)\n",
    "X, Y = sklearn.utils.shuffle(np.array(states), np.array(data_actions))\n",
    "print(X.shape, Y.shape, np.unique(Y).shape)"
   ]
  },
  {
   "cell_type": "code",
   "execution_count": null,
   "metadata": {},
   "outputs": [],
   "source": []
  },
  {
   "cell_type": "code",
   "execution_count": 13,
   "metadata": {},
   "outputs": [
    {
     "name": "stdout",
     "output_type": "stream",
     "text": [
      "(70324, 29)\n"
     ]
    }
   ],
   "source": [
    "X_train, X_test, Y_train, Y_test = sklearn.model_selection.train_test_split(X, Y, test_size=test_size)\n",
    "print(X_train.shape)"
   ]
  },
  {
   "cell_type": "code",
   "execution_count": 14,
   "metadata": {},
   "outputs": [
    {
     "name": "stdout",
     "output_type": "stream",
     "text": [
      "MLPClassifier(activation='relu', alpha=0.0001, batch_size='auto', beta_1=0.9,\n",
      "       beta_2=0.999, early_stopping=False, epsilon=1e-08,\n",
      "       hidden_layer_sizes=(200, 20), learning_rate='constant',\n",
      "       learning_rate_init=0.001, max_iter=200, momentum=0.9,\n",
      "       n_iter_no_change=10, nesterovs_momentum=True, power_t=0.5,\n",
      "       random_state=None, shuffle=True, solver='adam', tol=0.0001,\n",
      "       validation_fraction=0.1, verbose=False, warm_start=False)\n",
      "CPU times: user 30min 59s, sys: 11.1 s, total: 31min 11s\n",
      "Wall time: 7min 48s\n"
     ]
    },
    {
     "name": "stderr",
     "output_type": "stream",
     "text": [
      "/home/kku/.miniconda3/lib/python3.6/site-packages/sklearn/neural_network/multilayer_perceptron.py:562: ConvergenceWarning: Stochastic Optimizer: Maximum iterations (200) reached and the optimization hasn't converged yet.\n",
      "  % self.max_iter, ConvergenceWarning)\n"
     ]
    }
   ],
   "source": [
    "%%time\n",
    "scaler = sklearn.preprocessing.MinMaxScaler((-1,1))  \n",
    "scaler.fit(X_train)  \n",
    "\n",
    "# classifier = sklearn.ensemble.ExtraTreesClassifier(40, min_samples_leaf=4)\n",
    "# classifier = sklearn.tree.DecisionTreeClassifier(min_samples_leaf=4)\n",
    "classifier = sklearn.neural_network.MLPClassifier((200, 20))\n",
    "# classifier = sklearn.svm.SVC(gamma='scale')\n",
    "\n",
    "print(\n",
    "    classifier.fit(\n",
    "        scaler.transform(X_train),\n",
    "        Y_train\n",
    "    )\n",
    ")"
   ]
  },
  {
   "cell_type": "code",
   "execution_count": 15,
   "metadata": {},
   "outputs": [
    {
     "name": "stdout",
     "output_type": "stream",
     "text": [
      "Traning score:  0.7304049826517263 \n",
      "Test score:  0.7019452265165088\n"
     ]
    }
   ],
   "source": [
    "print(\n",
    "    'Traning score: ', classifier.score(scaler.transform(X_train), Y_train), '\\n'\n",
    "    'Test score: ', classifier.score(scaler.transform(X_test), Y_test)\n",
    ")\n",
    "# sklearn.metrics.confusion_matrix(Y_test, classifier.predict(X_test))"
   ]
  },
  {
   "cell_type": "code",
   "execution_count": 16,
   "metadata": {},
   "outputs": [
    {
     "name": "stdout",
     "output_type": "stream",
     "text": [
      "Dumping model to: models/2019-01-08_20:23:50_799\n"
     ]
    }
   ],
   "source": [
    "def dump(path = 'saved_model'):\n",
    "    print(f'Dumping model to: {path}')\n",
    "    os.system(f'mkdir {path}')\n",
    "    np.savez(\n",
    "        f'{path}/parameters.npz',\n",
    "        **{\n",
    "            'actions': actions,\n",
    "            'state_keys': state_keys\n",
    "        }\n",
    "    \n",
    "    )\n",
    "    joblib.dump(classifier, f'{path}/classifier')\n",
    "    joblib.dump(scaler, f'{path}/scaler')    \n",
    "path=f'models/{generate_id()}'\n",
    "def remove_dump():\n",
    "    print(os.system(f'rm -r {path}'))\n",
    "dump(path)\n",
    "    "
   ]
  },
  {
   "cell_type": "code",
   "execution_count": 7,
   "metadata": {},
   "outputs": [
    {
     "data": {
      "text/plain": [
       "(29,)"
      ]
     },
     "execution_count": 7,
     "metadata": {},
     "output_type": "execute_result"
    }
   ],
   "source": [
    "asd = X_train[0]\n",
    "asd.shape"
   ]
  },
  {
   "cell_type": "code",
   "execution_count": 8,
   "metadata": {},
   "outputs": [
    {
     "data": {
      "text/plain": [
       "array([[ 0.26908068,  0.08308917, -0.15247525, -0.04090376,  0.29898229,\n",
       "         0.65966348, -0.30730879, -0.82477015, -0.2143005 , -0.33252836,\n",
       "        -0.39859602, -0.42994428, -0.44616318, -0.46005572, -0.46980498,\n",
       "        -0.47940498, -0.48885572, -0.49815522, -0.51091343, -0.5251204 ,\n",
       "        -0.55066368, -0.59742886, -0.6628607 , -0.73127463,  0.31653813,\n",
       "         0.27656307,  0.26714081,  0.28376876,  0.27909945]])"
      ]
     },
     "execution_count": 8,
     "metadata": {},
     "output_type": "execute_result"
    }
   ],
   "source": [
    "scaler.transform([asd])"
   ]
  },
  {
   "cell_type": "code",
   "execution_count": 9,
   "metadata": {},
   "outputs": [
    {
     "name": "stdout",
     "output_type": "stream",
     "text": [
      "0\n"
     ]
    }
   ],
   "source": [
    "remove_dump()"
   ]
  }
 ],
 "metadata": {
  "kernelspec": {
   "display_name": "Python 3",
   "language": "python",
   "name": "python3"
  },
  "language_info": {
   "codemirror_mode": {
    "name": "ipython",
    "version": 3
   },
   "file_extension": ".py",
   "mimetype": "text/x-python",
   "name": "python",
   "nbconvert_exporter": "python",
   "pygments_lexer": "ipython3",
   "version": "3.6.7"
  }
 },
 "nbformat": 4,
 "nbformat_minor": 2
}
