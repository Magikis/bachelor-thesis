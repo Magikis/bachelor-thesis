{
 "cells": [
  {
   "cell_type": "code",
   "execution_count": 1,
   "metadata": {},
   "outputs": [],
   "source": [
    "%load_ext autoreload\n",
    "%autoreload 2\n",
    "import sklearn\n",
    "from sklearn.preprocessing import StandardScaler\n",
    "from sklearn.neural_network import MLPClassifier\n",
    "import os\n",
    "# from keras.utils.np_utils import to_categorical\n",
    "import numpy as np\n",
    "from agents.knn import *\n",
    "from utils import generate_id\n",
    "from settings import settings\n",
    "\n",
    "# def reduce_actions(actions):\n",
    "#     s = np.unique(np.array([a['steer'] for a in actions]))\n",
    "#     s.sort()\n",
    "#     steer_values = np.unique(np.concatenate((\n",
    "#         np.linspace(-1, -0.1, 15),\n",
    "#         np.linspace(-0.1, 0 , 6),\n",
    "#         np.linspace(0, 0.1, 6),\n",
    "#         np.linspace(0.1, 1, 15),\n",
    "#     )))\n",
    "#     return [\n",
    "#         {\n",
    "#             **a,\n",
    "#             'steer': steer_values[\n",
    "#                 np.argmin(\n",
    "#                     np.abs(\n",
    "#                         steer_values - a['steer']\n",
    "#                     )\n",
    "#                  )\n",
    "#             ]\n",
    "#         } \n",
    "#         for a in actions\n",
    "#     ]"
   ]
  },
  {
   "cell_type": "code",
   "execution_count": 2,
   "metadata": {},
   "outputs": [
    {
     "name": "stdout",
     "output_type": "stream",
     "text": [
      "(78138, 29) (78138,) (243,)\n"
     ]
    }
   ],
   "source": [
    "data = parse_dataset(\n",
    "    '/home/kku/Dropbox/datasets/cg_track_2_2'\n",
    "#     '/home/kku/Dropbox/important_logs',\n",
    "#     8\n",
    ")\n",
    "test_size = 0.10\n",
    "\n",
    "action_keys = [\n",
    "    'steer',\n",
    "    'accel',\n",
    "    'brake'\n",
    "]\n",
    "\n",
    "state_keys = [\n",
    "    'speedX',\n",
    "    'speedY',\n",
    "    'speedZ',\n",
    "    'angle',\n",
    "    'trackPos',\n",
    "    'distFromStart',\n",
    "    'track',\n",
    "    'wheelSpinVel'\n",
    "]\n",
    "\n",
    "states, actions = extract_parameters(\n",
    "    data,\n",
    "    action_keys=action_keys,\n",
    "    state_keys=state_keys\n",
    ")\n",
    "data_actions, actions = unify_actions(actions)\n",
    "X, Y = sklearn.utils.shuffle(np.array(states), np.array(data_actions))\n",
    "print(X.shape, Y.shape, np.unique(Y).shape)"
   ]
  },
  {
   "cell_type": "code",
   "execution_count": null,
   "metadata": {},
   "outputs": [],
   "source": []
  },
  {
   "cell_type": "code",
   "execution_count": 3,
   "metadata": {},
   "outputs": [
    {
     "name": "stdout",
     "output_type": "stream",
     "text": [
      "(70324, 29)\n"
     ]
    }
   ],
   "source": [
    "X_train, X_test, Y_train, Y_test = sklearn.model_selection.train_test_split(X, Y, test_size=test_size)\n",
    "print(X_train.shape)"
   ]
  },
  {
   "cell_type": "code",
   "execution_count": 10,
   "metadata": {},
   "outputs": [
    {
     "data": {
      "text/plain": [
       "ExtraTreesClassifier(bootstrap=False, class_weight=None, criterion='gini',\n",
       "           max_depth=None, max_features='auto', max_leaf_nodes=None,\n",
       "           min_impurity_decrease=0.0, min_impurity_split=None,\n",
       "           min_samples_leaf=1, min_samples_split=2,\n",
       "           min_weight_fraction_leaf=0.0, n_estimators=20, n_jobs=None,\n",
       "           oob_score=False, random_state=None, verbose=0, warm_start=False)"
      ]
     },
     "execution_count": 10,
     "metadata": {},
     "output_type": "execute_result"
    }
   ],
   "source": [
    "scaler = sklearn.preprocessing.MinMaxScaler((-1,1))  \n",
    "scaler.fit(X_train)  \n",
    "\n",
    "classifier = sklearn.ensemble.ExtraTreesClassifier(20)\n",
    "# classifier = sklearn.tree.DecisionTreeClassifier(min_samples_leaf=4)\n",
    "\n",
    "classifier.fit(\n",
    "    scaler.transform(X_train),\n",
    "    Y_train\n",
    ") "
   ]
  },
  {
   "cell_type": "code",
   "execution_count": null,
   "metadata": {},
   "outputs": [
    {
     "name": "stdout",
     "output_type": "stream",
     "text": [
      "Traning score:  0.999445424037313 \n",
      "Test score:  0.6584335807524955\n"
     ]
    }
   ],
   "source": [
    "print(\n",
    "    'Traning score: ', classifier.score(scaler.transform(X_train), Y_train), '\\n'\n",
    "    'Test score: ', classifier.score(scaler.transform(X_test), Y_test)\n",
    ")\n",
    "# sklearn.metrics.confusion_matrix(Y_test, classifier.predict(X_test))"
   ]
  },
  {
   "cell_type": "code",
   "execution_count": null,
   "metadata": {},
   "outputs": [
    {
     "name": "stdout",
     "output_type": "stream",
     "text": [
      "Dumping model to: models/2019-01-05_21:32:08_252\n"
     ]
    }
   ],
   "source": [
    "def dump(path = 'saved_model'):\n",
    "    print(f'Dumping model to: {path}')\n",
    "    os.system(f'mkdir {path}')\n",
    "    np.savez(\n",
    "        f'{path}/parameters.npz',\n",
    "        **{\n",
    "            'actions': actions,\n",
    "            'state_keys': state_keys\n",
    "        }\n",
    "    \n",
    "    )\n",
    "    joblib.dump(classifier, f'{path}/classifier')\n",
    "    joblib.dump(scaler, f'{path}/scaler')    \n",
    "path=f'models/{generate_id()}'\n",
    "def remove_dump():\n",
    "    print(os.system(f'rm -r {path}'))\n",
    "dump(path)\n",
    "    "
   ]
  },
  {
   "cell_type": "code",
   "execution_count": 25,
   "metadata": {},
   "outputs": [
    {
     "data": {
      "text/plain": [
       "(29,)"
      ]
     },
     "execution_count": 25,
     "metadata": {},
     "output_type": "execute_result"
    }
   ],
   "source": [
    "asd = X_train[0]\n",
    "asd.shape"
   ]
  },
  {
   "cell_type": "code",
   "execution_count": 26,
   "metadata": {},
   "outputs": [
    {
     "data": {
      "text/plain": [
       "array([[-1.0927977 ,  0.30305797, -0.00175801,  0.16198501,  0.21558777,\n",
       "         1.46309705, -0.20766877, -0.33272769, -0.50611525, -0.25591718,\n",
       "         0.49272732,  1.35532288,  1.41963225,  1.32282782,  1.27475804,\n",
       "         1.25183432,  1.24446858,  1.25392829,  1.29899214,  0.95950986,\n",
       "         0.38272102,  0.02796284,  0.07798637,  0.24934772,  0.19622016,\n",
       "        -0.9676149 , -0.95126154, -1.12915632, -1.11655785]])"
      ]
     },
     "execution_count": 26,
     "metadata": {},
     "output_type": "execute_result"
    }
   ],
   "source": [
    "scaler.transform([asd])"
   ]
  },
  {
   "cell_type": "code",
   "execution_count": 7,
   "metadata": {},
   "outputs": [
    {
     "name": "stdout",
     "output_type": "stream",
     "text": [
      "0\n"
     ]
    }
   ],
   "source": [
    "remove_dump()"
   ]
  }
 ],
 "metadata": {
  "kernelspec": {
   "display_name": "Python 3",
   "language": "python",
   "name": "python3"
  },
  "language_info": {
   "codemirror_mode": {
    "name": "ipython",
    "version": 3
   },
   "file_extension": ".py",
   "mimetype": "text/x-python",
   "name": "python",
   "nbconvert_exporter": "python",
   "pygments_lexer": "ipython3",
   "version": "3.6.7"
  }
 },
 "nbformat": 4,
 "nbformat_minor": 2
}
