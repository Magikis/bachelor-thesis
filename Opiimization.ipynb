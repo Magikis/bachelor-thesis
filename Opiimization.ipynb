{
 "cells": [
  {
   "cell_type": "code",
   "execution_count": 1,
   "metadata": {},
   "outputs": [],
   "source": [
    "import numpy as np\n",
    "c = np.array([[1,1],[2,2],[3,3]])\n",
    "b = np.array([5,50,500])[:, np.newaxis]\n",
    "a = np.array([7,70])"
   ]
  },
  {
   "cell_type": "code",
   "execution_count": 2,
   "metadata": {},
   "outputs": [
    {
     "data": {
      "text/plain": [
       "array([[  6,   6],\n",
       "       [ 52,  52],\n",
       "       [503, 503]])"
      ]
     },
     "execution_count": 2,
     "metadata": {},
     "output_type": "execute_result"
    }
   ],
   "source": [
    "c + b"
   ]
  },
  {
   "cell_type": "code",
   "execution_count": 3,
   "metadata": {},
   "outputs": [
    {
     "data": {
      "text/plain": [
       "array([[ 8, 71],\n",
       "       [ 9, 72],\n",
       "       [10, 73]])"
      ]
     },
     "execution_count": 3,
     "metadata": {},
     "output_type": "execute_result"
    }
   ],
   "source": [
    "a + c"
   ]
  },
  {
   "cell_type": "code",
   "execution_count": 4,
   "metadata": {},
   "outputs": [
    {
     "data": {
      "text/plain": [
       "[(0.0, 820.0),\n",
       " (820.0, 1640.0),\n",
       " (1640.0, 2460.0),\n",
       " (2460.0, 3280.0),\n",
       " (3280.0, 4100.0),\n",
       " (4100.0, 4920.0),\n",
       " (4920.0, 5740.0)]"
      ]
     },
     "execution_count": 4,
     "metadata": {},
     "output_type": "execute_result"
    }
   ],
   "source": [
    "a = np.linspace(0, 5740, 8)\n",
    "b = zip(a, a[1:])\n",
    "list(b)"
   ]
  },
  {
   "cell_type": "code",
   "execution_count": 5,
   "metadata": {},
   "outputs": [],
   "source": [
    "import scipy.optimize as opt\n",
    "def f(x):\n",
    "    if x > 275.2:\n",
    "        return 1000.\n",
    "    return x - 500.\n",
    "a = 40\n",
    "b = 300\n",
    "# res = opt.bisect(f,a,b,maxiter = 5)"
   ]
  },
  {
   "cell_type": "code",
   "execution_count": 26,
   "metadata": {},
   "outputs": [],
   "source": [
    "def bisect(f,a,times, alpha=150):\n",
    "    for i in range(times):\n",
    "        res = f(a + alpha)\n",
    "        if res < a:\n",
    "            prev_a = a\n",
    "            a += alpha\n",
    "            if a >= 300.:\n",
    "                return 300.\n",
    "        else:\n",
    "            if alpha < 2.:\n",
    "                print(f'{i + 1} times')\n",
    "                return a\n",
    "            alpha /= 2\n",
    "    return a\n",
    "        "
   ]
  },
  {
   "cell_type": "code",
   "execution_count": 25,
   "metadata": {},
   "outputs": [
    {
     "name": "stdout",
     "output_type": "stream",
     "text": [
      "14 times\n"
     ]
    },
    {
     "data": {
      "text/plain": [
       "(274.9609375, -225.0390625)"
      ]
     },
     "execution_count": 25,
     "metadata": {},
     "output_type": "execute_result"
    }
   ],
   "source": [
    "x_best = bisect(f, a, 600)\n",
    "x_best, f(x_best)"
   ]
  },
  {
   "cell_type": "code",
   "execution_count": 69,
   "metadata": {},
   "outputs": [
    {
     "data": {
      "text/plain": [
       "[{'laps': '1,', 'time': '283.91'}]"
      ]
     },
     "execution_count": 69,
     "metadata": {},
     "output_type": "execute_result"
    }
   ],
   "source": [
    "id = '2018-11-15_12:22:35_089_agent.log'\n",
    "with open(f'logs/{id}') as f:\n",
    "    data = [x.split() for x in f if 'Sim' in x.split()]\n",
    "[{\n",
    "    'laps': x[1 + x.index('Laps:')],\n",
    "     'time': x[1 + x.index('Time:')]\n",
    "} for x in data]"
   ]
  }
 ],
 "metadata": {
  "kernelspec": {
   "display_name": "Python 3",
   "language": "python",
   "name": "python3"
  },
  "language_info": {
   "codemirror_mode": {
    "name": "ipython",
    "version": 3
   },
   "file_extension": ".py",
   "mimetype": "text/x-python",
   "name": "python",
   "nbconvert_exporter": "python",
   "pygments_lexer": "ipython3",
   "version": "3.7.0"
  }
 },
 "nbformat": 4,
 "nbformat_minor": 2
}
